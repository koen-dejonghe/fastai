{
 "cells": [
  {
   "cell_type": "code",
   "execution_count": 1,
   "metadata": {},
   "outputs": [
    {
     "name": "stderr",
     "output_type": "stream",
     "text": [
      "/home/koendej/apps/anaconda3/envs/fastai/lib/python3.6/site-packages/pandas/io/feather_format.py:112: FutureWarning: `nthreads` argument is deprecated, pass `use_threads` instead\n",
      "  return feather.read_dataframe(path, nthreads=nthreads)\n"
     ]
    },
    {
     "data": {
      "text/plain": [
       "Index(['facility', 'entry_date', 'count'], dtype='object')"
      ]
     },
     "execution_count": 1,
     "metadata": {},
     "output_type": "execute_result"
    }
   ],
   "source": [
    "import numpy as np\n",
    "import pandas as pd\n",
    "\n",
    "PATH='data/transactions'\n",
    "eagg = pd.read_feather(f'{PATH}/entries_agg')\n",
    "eagg.columns\n"
   ]
  },
  {
   "cell_type": "code",
   "execution_count": 2,
   "metadata": {},
   "outputs": [
    {
     "data": {
      "text/plain": [
       "102274"
      ]
     },
     "execution_count": 2,
     "metadata": {},
     "output_type": "execute_result"
    }
   ],
   "source": [
    "len(eagg)"
   ]
  },
  {
   "cell_type": "markdown",
   "metadata": {},
   "source": [
    "## Missing dates"
   ]
  },
  {
   "cell_type": "code",
   "execution_count": 3,
   "metadata": {},
   "outputs": [
    {
     "data": {
      "text/plain": [
       "110290"
      ]
     },
     "execution_count": 3,
     "metadata": {},
     "output_type": "execute_result"
    }
   ],
   "source": [
    "def resampler(x):\n",
    "    return x.set_index('entry_date').resample('D').sum()\n",
    "\n",
    "eaggi = eagg.groupby('facility').apply(resampler)\n",
    "eaggi.reset_index(inplace=True)\n",
    "len(eaggi)"
   ]
  },
  {
   "cell_type": "code",
   "execution_count": 4,
   "metadata": {},
   "outputs": [
    {
     "data": {
      "text/plain": [
       "array(['0504944', '0505172', '0505339', '0505453', '0510552'],\n",
       "      dtype=object)"
      ]
     },
     "execution_count": 4,
     "metadata": {},
     "output_type": "execute_result"
    }
   ],
   "source": [
    "col_types = { 'facility': str, 'city': str, 'city_type': str, 'facility_purpose': str, 'facility_type': str }\n",
    "nl_facilities = pd.read_csv(f\"{PATH}/nl_facilities.csv\", dtype = col_types)\n",
    "\n",
    "efc = eaggi.merge(nl_facilities, 'left', ['facility'])\n",
    "\n",
    "efc[efc['city'].isna()].facility.unique()\n"
   ]
  },
  {
   "cell_type": "code",
   "execution_count": 5,
   "metadata": {},
   "outputs": [],
   "source": [
    "# remove entries with missing city information\n",
    "# todo: obtain this info\n",
    "efc.dropna(inplace=True)"
   ]
  },
  {
   "cell_type": "code",
   "execution_count": 6,
   "metadata": {},
   "outputs": [
    {
     "data": {
      "text/plain": [
       "113843"
      ]
     },
     "execution_count": 6,
     "metadata": {},
     "output_type": "execute_result"
    }
   ],
   "source": [
    "len(efc)"
   ]
  },
  {
   "cell_type": "code",
   "execution_count": 7,
   "metadata": {},
   "outputs": [],
   "source": [
    "efc.drop_duplicates(inplace=True) #whyhwhyhwhyhwhyhw??????"
   ]
  },
  {
   "cell_type": "code",
   "execution_count": 8,
   "metadata": {},
   "outputs": [
    {
     "data": {
      "text/plain": [
       "107779"
      ]
     },
     "execution_count": 8,
     "metadata": {},
     "output_type": "execute_result"
    }
   ],
   "source": [
    "len(efc)"
   ]
  },
  {
   "cell_type": "markdown",
   "metadata": {},
   "source": [
    "   ## Holidays"
   ]
  },
  {
   "cell_type": "code",
   "execution_count": 9,
   "metadata": {},
   "outputs": [
    {
     "data": {
      "text/plain": [
       "Timestamp('2015-01-10 00:00:00')"
      ]
     },
     "execution_count": 9,
     "metadata": {},
     "output_type": "execute_result"
    }
   ],
   "source": [
    "efc['entry_date'].min()"
   ]
  },
  {
   "cell_type": "code",
   "execution_count": 10,
   "metadata": {},
   "outputs": [
    {
     "data": {
      "text/plain": [
       "Timestamp('2018-09-15 00:00:00')"
      ]
     },
     "execution_count": 10,
     "metadata": {},
     "output_type": "execute_result"
    }
   ],
   "source": [
    "efc['entry_date'].max()"
   ]
  },
  {
   "cell_type": "code",
   "execution_count": 11,
   "metadata": {},
   "outputs": [
    {
     "data": {
      "text/plain": [
       "Timestamp('2015-01-01 00:00:00')"
      ]
     },
     "execution_count": 11,
     "metadata": {},
     "output_type": "execute_result"
    }
   ],
   "source": [
    "nl_holidays = pd.read_csv(f\"{PATH}/nl_holidays.csv\", parse_dates=['nl_holiday'])\n",
    "nl_holidays['nl_holiday'][0]"
   ]
  },
  {
   "cell_type": "code",
   "execution_count": 12,
   "metadata": {},
   "outputs": [],
   "source": [
    "efc['is_holiday'] = 0\n",
    "for d in nl_holidays.to_records():\n",
    "    efc.loc[efc['entry_date'] == d[1], 'is_holiday'] = 1\n"
   ]
  },
  {
   "cell_type": "code",
   "execution_count": 13,
   "metadata": {},
   "outputs": [
    {
     "data": {
      "text/html": [
       "<div>\n",
       "<style scoped>\n",
       "    .dataframe tbody tr th:only-of-type {\n",
       "        vertical-align: middle;\n",
       "    }\n",
       "\n",
       "    .dataframe tbody tr th {\n",
       "        vertical-align: top;\n",
       "    }\n",
       "\n",
       "    .dataframe thead th {\n",
       "        text-align: right;\n",
       "    }\n",
       "</style>\n",
       "<table border=\"1\" class=\"dataframe\">\n",
       "  <thead>\n",
       "    <tr style=\"text-align: right;\">\n",
       "      <th></th>\n",
       "      <th>facility</th>\n",
       "      <th>entry_date</th>\n",
       "      <th>count</th>\n",
       "      <th>city</th>\n",
       "      <th>city_type</th>\n",
       "      <th>facility_purpose</th>\n",
       "      <th>facility_type</th>\n",
       "      <th>is_holiday</th>\n",
       "    </tr>\n",
       "  </thead>\n",
       "  <tbody>\n",
       "    <tr>\n",
       "      <th>0</th>\n",
       "      <td>0500140</td>\n",
       "      <td>2015-12-16</td>\n",
       "      <td>2</td>\n",
       "      <td>Oosterhout</td>\n",
       "      <td>ACities</td>\n",
       "      <td>Multifunction</td>\n",
       "      <td>Combination</td>\n",
       "      <td>0</td>\n",
       "    </tr>\n",
       "    <tr>\n",
       "      <th>1</th>\n",
       "      <td>0500140</td>\n",
       "      <td>2015-12-17</td>\n",
       "      <td>0</td>\n",
       "      <td>Oosterhout</td>\n",
       "      <td>ACities</td>\n",
       "      <td>Multifunction</td>\n",
       "      <td>Combination</td>\n",
       "      <td>0</td>\n",
       "    </tr>\n",
       "    <tr>\n",
       "      <th>2</th>\n",
       "      <td>0500140</td>\n",
       "      <td>2015-12-18</td>\n",
       "      <td>2</td>\n",
       "      <td>Oosterhout</td>\n",
       "      <td>ACities</td>\n",
       "      <td>Multifunction</td>\n",
       "      <td>Combination</td>\n",
       "      <td>0</td>\n",
       "    </tr>\n",
       "    <tr>\n",
       "      <th>3</th>\n",
       "      <td>0500140</td>\n",
       "      <td>2015-12-19</td>\n",
       "      <td>0</td>\n",
       "      <td>Oosterhout</td>\n",
       "      <td>ACities</td>\n",
       "      <td>Multifunction</td>\n",
       "      <td>Combination</td>\n",
       "      <td>0</td>\n",
       "    </tr>\n",
       "    <tr>\n",
       "      <th>4</th>\n",
       "      <td>0500140</td>\n",
       "      <td>2015-12-20</td>\n",
       "      <td>1</td>\n",
       "      <td>Oosterhout</td>\n",
       "      <td>ACities</td>\n",
       "      <td>Multifunction</td>\n",
       "      <td>Combination</td>\n",
       "      <td>0</td>\n",
       "    </tr>\n",
       "  </tbody>\n",
       "</table>\n",
       "</div>"
      ],
      "text/plain": [
       "  facility entry_date  count        city city_type facility_purpose  \\\n",
       "0  0500140 2015-12-16      2  Oosterhout   ACities    Multifunction   \n",
       "1  0500140 2015-12-17      0  Oosterhout   ACities    Multifunction   \n",
       "2  0500140 2015-12-18      2  Oosterhout   ACities    Multifunction   \n",
       "3  0500140 2015-12-19      0  Oosterhout   ACities    Multifunction   \n",
       "4  0500140 2015-12-20      1  Oosterhout   ACities    Multifunction   \n",
       "\n",
       "  facility_type  is_holiday  \n",
       "0   Combination           0  \n",
       "1   Combination           0  \n",
       "2   Combination           0  \n",
       "3   Combination           0  \n",
       "4   Combination           0  "
      ]
     },
     "execution_count": 13,
     "metadata": {},
     "output_type": "execute_result"
    }
   ],
   "source": [
    "efc.head()"
   ]
  },
  {
   "cell_type": "markdown",
   "metadata": {},
   "source": [
    "## City and Region"
   ]
  },
  {
   "cell_type": "code",
   "execution_count": 14,
   "metadata": {},
   "outputs": [
    {
     "data": {
      "text/plain": [
       "107779"
      ]
     },
     "execution_count": 14,
     "metadata": {},
     "output_type": "execute_result"
    }
   ],
   "source": [
    "nl_cities = pd.read_csv(f'{PATH}/nl_cities.csv')\n",
    "efc = efc.merge(nl_cities, 'left', ['city'])\n",
    "len(efc)"
   ]
  },
  {
   "cell_type": "code",
   "execution_count": 15,
   "metadata": {},
   "outputs": [
    {
     "data": {
      "text/html": [
       "<div>\n",
       "<style scoped>\n",
       "    .dataframe tbody tr th:only-of-type {\n",
       "        vertical-align: middle;\n",
       "    }\n",
       "\n",
       "    .dataframe tbody tr th {\n",
       "        vertical-align: top;\n",
       "    }\n",
       "\n",
       "    .dataframe thead th {\n",
       "        text-align: right;\n",
       "    }\n",
       "</style>\n",
       "<table border=\"1\" class=\"dataframe\">\n",
       "  <thead>\n",
       "    <tr style=\"text-align: right;\">\n",
       "      <th></th>\n",
       "      <th>facility</th>\n",
       "      <th>entry_date</th>\n",
       "      <th>count</th>\n",
       "      <th>city</th>\n",
       "      <th>city_type</th>\n",
       "      <th>facility_purpose</th>\n",
       "      <th>facility_type</th>\n",
       "      <th>is_holiday</th>\n",
       "      <th>region</th>\n",
       "    </tr>\n",
       "  </thead>\n",
       "  <tbody>\n",
       "    <tr>\n",
       "      <th>0</th>\n",
       "      <td>0500140</td>\n",
       "      <td>2015-12-16</td>\n",
       "      <td>2</td>\n",
       "      <td>Oosterhout</td>\n",
       "      <td>ACities</td>\n",
       "      <td>Multifunction</td>\n",
       "      <td>Combination</td>\n",
       "      <td>0</td>\n",
       "      <td>South</td>\n",
       "    </tr>\n",
       "    <tr>\n",
       "      <th>1</th>\n",
       "      <td>0500140</td>\n",
       "      <td>2015-12-17</td>\n",
       "      <td>0</td>\n",
       "      <td>Oosterhout</td>\n",
       "      <td>ACities</td>\n",
       "      <td>Multifunction</td>\n",
       "      <td>Combination</td>\n",
       "      <td>0</td>\n",
       "      <td>South</td>\n",
       "    </tr>\n",
       "    <tr>\n",
       "      <th>2</th>\n",
       "      <td>0500140</td>\n",
       "      <td>2015-12-18</td>\n",
       "      <td>2</td>\n",
       "      <td>Oosterhout</td>\n",
       "      <td>ACities</td>\n",
       "      <td>Multifunction</td>\n",
       "      <td>Combination</td>\n",
       "      <td>0</td>\n",
       "      <td>South</td>\n",
       "    </tr>\n",
       "    <tr>\n",
       "      <th>3</th>\n",
       "      <td>0500140</td>\n",
       "      <td>2015-12-19</td>\n",
       "      <td>0</td>\n",
       "      <td>Oosterhout</td>\n",
       "      <td>ACities</td>\n",
       "      <td>Multifunction</td>\n",
       "      <td>Combination</td>\n",
       "      <td>0</td>\n",
       "      <td>South</td>\n",
       "    </tr>\n",
       "    <tr>\n",
       "      <th>4</th>\n",
       "      <td>0500140</td>\n",
       "      <td>2015-12-20</td>\n",
       "      <td>1</td>\n",
       "      <td>Oosterhout</td>\n",
       "      <td>ACities</td>\n",
       "      <td>Multifunction</td>\n",
       "      <td>Combination</td>\n",
       "      <td>0</td>\n",
       "      <td>South</td>\n",
       "    </tr>\n",
       "  </tbody>\n",
       "</table>\n",
       "</div>"
      ],
      "text/plain": [
       "  facility entry_date  count        city city_type facility_purpose  \\\n",
       "0  0500140 2015-12-16      2  Oosterhout   ACities    Multifunction   \n",
       "1  0500140 2015-12-17      0  Oosterhout   ACities    Multifunction   \n",
       "2  0500140 2015-12-18      2  Oosterhout   ACities    Multifunction   \n",
       "3  0500140 2015-12-19      0  Oosterhout   ACities    Multifunction   \n",
       "4  0500140 2015-12-20      1  Oosterhout   ACities    Multifunction   \n",
       "\n",
       "  facility_type  is_holiday region  \n",
       "0   Combination           0  South  \n",
       "1   Combination           0  South  \n",
       "2   Combination           0  South  \n",
       "3   Combination           0  South  \n",
       "4   Combination           0  South  "
      ]
     },
     "execution_count": 15,
     "metadata": {},
     "output_type": "execute_result"
    }
   ],
   "source": [
    "efc.head()"
   ]
  },
  {
   "cell_type": "markdown",
   "metadata": {},
   "source": [
    "## School holidays"
   ]
  },
  {
   "cell_type": "code",
   "execution_count": 16,
   "metadata": {},
   "outputs": [
    {
     "data": {
      "text/html": [
       "<div>\n",
       "<style scoped>\n",
       "    .dataframe tbody tr th:only-of-type {\n",
       "        vertical-align: middle;\n",
       "    }\n",
       "\n",
       "    .dataframe tbody tr th {\n",
       "        vertical-align: top;\n",
       "    }\n",
       "\n",
       "    .dataframe thead th {\n",
       "        text-align: right;\n",
       "    }\n",
       "</style>\n",
       "<table border=\"1\" class=\"dataframe\">\n",
       "  <thead>\n",
       "    <tr style=\"text-align: right;\">\n",
       "      <th></th>\n",
       "      <th>region</th>\n",
       "      <th>begin</th>\n",
       "      <th>end</th>\n",
       "    </tr>\n",
       "  </thead>\n",
       "  <tbody>\n",
       "    <tr>\n",
       "      <th>0</th>\n",
       "      <td>North</td>\n",
       "      <td>2014-12-20</td>\n",
       "      <td>2015-01-04</td>\n",
       "    </tr>\n",
       "    <tr>\n",
       "      <th>1</th>\n",
       "      <td>Middle</td>\n",
       "      <td>2014-12-20</td>\n",
       "      <td>2015-01-04</td>\n",
       "    </tr>\n",
       "    <tr>\n",
       "      <th>2</th>\n",
       "      <td>South</td>\n",
       "      <td>2014-12-20</td>\n",
       "      <td>2015-01-04</td>\n",
       "    </tr>\n",
       "    <tr>\n",
       "      <th>3</th>\n",
       "      <td>South</td>\n",
       "      <td>2015-02-14</td>\n",
       "      <td>2015-02-22</td>\n",
       "    </tr>\n",
       "    <tr>\n",
       "      <th>4</th>\n",
       "      <td>Middle</td>\n",
       "      <td>2015-02-21</td>\n",
       "      <td>2015-03-01</td>\n",
       "    </tr>\n",
       "  </tbody>\n",
       "</table>\n",
       "</div>"
      ],
      "text/plain": [
       "   region       begin         end\n",
       "0   North  2014-12-20  2015-01-04\n",
       "1  Middle  2014-12-20  2015-01-04\n",
       "2   South  2014-12-20  2015-01-04\n",
       "3   South  2015-02-14  2015-02-22\n",
       "4  Middle  2015-02-21  2015-03-01"
      ]
     },
     "execution_count": 16,
     "metadata": {},
     "output_type": "execute_result"
    }
   ],
   "source": [
    "nl_school_holidays = pd.read_csv(f'{PATH}/nl_school_holidays.csv')\n",
    "nl_school_holidays.head()"
   ]
  },
  {
   "cell_type": "code",
   "execution_count": 17,
   "metadata": {},
   "outputs": [],
   "source": [
    "efcsh = efc\n",
    "efcsh['school_holiday'] = 0\n",
    "\n",
    "for [r, b, e] in nl_school_holidays.values:\n",
    "    efcsh.loc[(efcsh[\"region\"] == r) & (efcsh[\"entry_date\"] >= b) & (efcsh[\"entry_date\"] <= e), \"school_holiday\"] = 1"
   ]
  },
  {
   "cell_type": "code",
   "execution_count": 18,
   "metadata": {},
   "outputs": [
    {
     "data": {
      "text/html": [
       "<div>\n",
       "<style scoped>\n",
       "    .dataframe tbody tr th:only-of-type {\n",
       "        vertical-align: middle;\n",
       "    }\n",
       "\n",
       "    .dataframe tbody tr th {\n",
       "        vertical-align: top;\n",
       "    }\n",
       "\n",
       "    .dataframe thead th {\n",
       "        text-align: right;\n",
       "    }\n",
       "</style>\n",
       "<table border=\"1\" class=\"dataframe\">\n",
       "  <thead>\n",
       "    <tr style=\"text-align: right;\">\n",
       "      <th></th>\n",
       "      <th>facility</th>\n",
       "      <th>entry_date</th>\n",
       "      <th>count</th>\n",
       "      <th>city</th>\n",
       "      <th>city_type</th>\n",
       "      <th>facility_purpose</th>\n",
       "      <th>facility_type</th>\n",
       "      <th>is_holiday</th>\n",
       "      <th>region</th>\n",
       "      <th>school_holiday</th>\n",
       "    </tr>\n",
       "  </thead>\n",
       "  <tbody>\n",
       "    <tr>\n",
       "      <th>0</th>\n",
       "      <td>0500140</td>\n",
       "      <td>2015-12-16</td>\n",
       "      <td>2</td>\n",
       "      <td>Oosterhout</td>\n",
       "      <td>ACities</td>\n",
       "      <td>Multifunction</td>\n",
       "      <td>Combination</td>\n",
       "      <td>0</td>\n",
       "      <td>South</td>\n",
       "      <td>0</td>\n",
       "    </tr>\n",
       "    <tr>\n",
       "      <th>1</th>\n",
       "      <td>0500140</td>\n",
       "      <td>2015-12-17</td>\n",
       "      <td>0</td>\n",
       "      <td>Oosterhout</td>\n",
       "      <td>ACities</td>\n",
       "      <td>Multifunction</td>\n",
       "      <td>Combination</td>\n",
       "      <td>0</td>\n",
       "      <td>South</td>\n",
       "      <td>0</td>\n",
       "    </tr>\n",
       "    <tr>\n",
       "      <th>2</th>\n",
       "      <td>0500140</td>\n",
       "      <td>2015-12-18</td>\n",
       "      <td>2</td>\n",
       "      <td>Oosterhout</td>\n",
       "      <td>ACities</td>\n",
       "      <td>Multifunction</td>\n",
       "      <td>Combination</td>\n",
       "      <td>0</td>\n",
       "      <td>South</td>\n",
       "      <td>0</td>\n",
       "    </tr>\n",
       "    <tr>\n",
       "      <th>3</th>\n",
       "      <td>0500140</td>\n",
       "      <td>2015-12-19</td>\n",
       "      <td>0</td>\n",
       "      <td>Oosterhout</td>\n",
       "      <td>ACities</td>\n",
       "      <td>Multifunction</td>\n",
       "      <td>Combination</td>\n",
       "      <td>0</td>\n",
       "      <td>South</td>\n",
       "      <td>1</td>\n",
       "    </tr>\n",
       "    <tr>\n",
       "      <th>4</th>\n",
       "      <td>0500140</td>\n",
       "      <td>2015-12-20</td>\n",
       "      <td>1</td>\n",
       "      <td>Oosterhout</td>\n",
       "      <td>ACities</td>\n",
       "      <td>Multifunction</td>\n",
       "      <td>Combination</td>\n",
       "      <td>0</td>\n",
       "      <td>South</td>\n",
       "      <td>1</td>\n",
       "    </tr>\n",
       "  </tbody>\n",
       "</table>\n",
       "</div>"
      ],
      "text/plain": [
       "  facility entry_date  count        city city_type facility_purpose  \\\n",
       "0  0500140 2015-12-16      2  Oosterhout   ACities    Multifunction   \n",
       "1  0500140 2015-12-17      0  Oosterhout   ACities    Multifunction   \n",
       "2  0500140 2015-12-18      2  Oosterhout   ACities    Multifunction   \n",
       "3  0500140 2015-12-19      0  Oosterhout   ACities    Multifunction   \n",
       "4  0500140 2015-12-20      1  Oosterhout   ACities    Multifunction   \n",
       "\n",
       "  facility_type  is_holiday region  school_holiday  \n",
       "0   Combination           0  South               0  \n",
       "1   Combination           0  South               0  \n",
       "2   Combination           0  South               0  \n",
       "3   Combination           0  South               1  \n",
       "4   Combination           0  South               1  "
      ]
     },
     "execution_count": 18,
     "metadata": {},
     "output_type": "execute_result"
    }
   ],
   "source": [
    "efcsh.head()"
   ]
  },
  {
   "cell_type": "markdown",
   "metadata": {},
   "source": [
    "## Extra date info"
   ]
  },
  {
   "cell_type": "code",
   "execution_count": 19,
   "metadata": {},
   "outputs": [
    {
     "name": "stderr",
     "output_type": "stream",
     "text": [
      "/home/koendej/apps/anaconda3/envs/fastai/lib/python3.6/site-packages/sklearn/ensemble/weight_boosting.py:29: DeprecationWarning: numpy.core.umath_tests is an internal NumPy module and should not be imported. It will be removed in a future NumPy release.\n",
      "  from numpy.core.umath_tests import inner1d\n"
     ]
    }
   ],
   "source": [
    "from fastai.structured import *\n",
    "from fastai.column_data import *\n",
    "\n",
    "add_datepart(efcsh, \"entry_date\", drop=False)"
   ]
  },
  {
   "cell_type": "code",
   "execution_count": 20,
   "metadata": {},
   "outputs": [
    {
     "data": {
      "text/html": [
       "<div>\n",
       "<style scoped>\n",
       "    .dataframe tbody tr th:only-of-type {\n",
       "        vertical-align: middle;\n",
       "    }\n",
       "\n",
       "    .dataframe tbody tr th {\n",
       "        vertical-align: top;\n",
       "    }\n",
       "\n",
       "    .dataframe thead th {\n",
       "        text-align: right;\n",
       "    }\n",
       "</style>\n",
       "<table border=\"1\" class=\"dataframe\">\n",
       "  <thead>\n",
       "    <tr style=\"text-align: right;\">\n",
       "      <th></th>\n",
       "      <th>facility</th>\n",
       "      <th>entry_date</th>\n",
       "      <th>count</th>\n",
       "      <th>city</th>\n",
       "      <th>city_type</th>\n",
       "      <th>facility_purpose</th>\n",
       "      <th>facility_type</th>\n",
       "      <th>is_holiday</th>\n",
       "      <th>region</th>\n",
       "      <th>school_holiday</th>\n",
       "      <th>...</th>\n",
       "      <th>entry_Day</th>\n",
       "      <th>entry_Dayofweek</th>\n",
       "      <th>entry_Dayofyear</th>\n",
       "      <th>entry_Is_month_end</th>\n",
       "      <th>entry_Is_month_start</th>\n",
       "      <th>entry_Is_quarter_end</th>\n",
       "      <th>entry_Is_quarter_start</th>\n",
       "      <th>entry_Is_year_end</th>\n",
       "      <th>entry_Is_year_start</th>\n",
       "      <th>entry_Elapsed</th>\n",
       "    </tr>\n",
       "  </thead>\n",
       "  <tbody>\n",
       "    <tr>\n",
       "      <th>0</th>\n",
       "      <td>0500140</td>\n",
       "      <td>2015-12-16</td>\n",
       "      <td>2</td>\n",
       "      <td>Oosterhout</td>\n",
       "      <td>ACities</td>\n",
       "      <td>Multifunction</td>\n",
       "      <td>Combination</td>\n",
       "      <td>0</td>\n",
       "      <td>South</td>\n",
       "      <td>0</td>\n",
       "      <td>...</td>\n",
       "      <td>16</td>\n",
       "      <td>2</td>\n",
       "      <td>350</td>\n",
       "      <td>False</td>\n",
       "      <td>False</td>\n",
       "      <td>False</td>\n",
       "      <td>False</td>\n",
       "      <td>False</td>\n",
       "      <td>False</td>\n",
       "      <td>1450224000</td>\n",
       "    </tr>\n",
       "    <tr>\n",
       "      <th>1</th>\n",
       "      <td>0500140</td>\n",
       "      <td>2015-12-17</td>\n",
       "      <td>0</td>\n",
       "      <td>Oosterhout</td>\n",
       "      <td>ACities</td>\n",
       "      <td>Multifunction</td>\n",
       "      <td>Combination</td>\n",
       "      <td>0</td>\n",
       "      <td>South</td>\n",
       "      <td>0</td>\n",
       "      <td>...</td>\n",
       "      <td>17</td>\n",
       "      <td>3</td>\n",
       "      <td>351</td>\n",
       "      <td>False</td>\n",
       "      <td>False</td>\n",
       "      <td>False</td>\n",
       "      <td>False</td>\n",
       "      <td>False</td>\n",
       "      <td>False</td>\n",
       "      <td>1450310400</td>\n",
       "    </tr>\n",
       "    <tr>\n",
       "      <th>2</th>\n",
       "      <td>0500140</td>\n",
       "      <td>2015-12-18</td>\n",
       "      <td>2</td>\n",
       "      <td>Oosterhout</td>\n",
       "      <td>ACities</td>\n",
       "      <td>Multifunction</td>\n",
       "      <td>Combination</td>\n",
       "      <td>0</td>\n",
       "      <td>South</td>\n",
       "      <td>0</td>\n",
       "      <td>...</td>\n",
       "      <td>18</td>\n",
       "      <td>4</td>\n",
       "      <td>352</td>\n",
       "      <td>False</td>\n",
       "      <td>False</td>\n",
       "      <td>False</td>\n",
       "      <td>False</td>\n",
       "      <td>False</td>\n",
       "      <td>False</td>\n",
       "      <td>1450396800</td>\n",
       "    </tr>\n",
       "    <tr>\n",
       "      <th>3</th>\n",
       "      <td>0500140</td>\n",
       "      <td>2015-12-19</td>\n",
       "      <td>0</td>\n",
       "      <td>Oosterhout</td>\n",
       "      <td>ACities</td>\n",
       "      <td>Multifunction</td>\n",
       "      <td>Combination</td>\n",
       "      <td>0</td>\n",
       "      <td>South</td>\n",
       "      <td>1</td>\n",
       "      <td>...</td>\n",
       "      <td>19</td>\n",
       "      <td>5</td>\n",
       "      <td>353</td>\n",
       "      <td>False</td>\n",
       "      <td>False</td>\n",
       "      <td>False</td>\n",
       "      <td>False</td>\n",
       "      <td>False</td>\n",
       "      <td>False</td>\n",
       "      <td>1450483200</td>\n",
       "    </tr>\n",
       "    <tr>\n",
       "      <th>4</th>\n",
       "      <td>0500140</td>\n",
       "      <td>2015-12-20</td>\n",
       "      <td>1</td>\n",
       "      <td>Oosterhout</td>\n",
       "      <td>ACities</td>\n",
       "      <td>Multifunction</td>\n",
       "      <td>Combination</td>\n",
       "      <td>0</td>\n",
       "      <td>South</td>\n",
       "      <td>1</td>\n",
       "      <td>...</td>\n",
       "      <td>20</td>\n",
       "      <td>6</td>\n",
       "      <td>354</td>\n",
       "      <td>False</td>\n",
       "      <td>False</td>\n",
       "      <td>False</td>\n",
       "      <td>False</td>\n",
       "      <td>False</td>\n",
       "      <td>False</td>\n",
       "      <td>1450569600</td>\n",
       "    </tr>\n",
       "  </tbody>\n",
       "</table>\n",
       "<p>5 rows × 23 columns</p>\n",
       "</div>"
      ],
      "text/plain": [
       "  facility entry_date  count        city city_type facility_purpose  \\\n",
       "0  0500140 2015-12-16      2  Oosterhout   ACities    Multifunction   \n",
       "1  0500140 2015-12-17      0  Oosterhout   ACities    Multifunction   \n",
       "2  0500140 2015-12-18      2  Oosterhout   ACities    Multifunction   \n",
       "3  0500140 2015-12-19      0  Oosterhout   ACities    Multifunction   \n",
       "4  0500140 2015-12-20      1  Oosterhout   ACities    Multifunction   \n",
       "\n",
       "  facility_type  is_holiday region  school_holiday      ...        entry_Day  \\\n",
       "0   Combination           0  South               0      ...               16   \n",
       "1   Combination           0  South               0      ...               17   \n",
       "2   Combination           0  South               0      ...               18   \n",
       "3   Combination           0  South               1      ...               19   \n",
       "4   Combination           0  South               1      ...               20   \n",
       "\n",
       "   entry_Dayofweek  entry_Dayofyear  entry_Is_month_end  entry_Is_month_start  \\\n",
       "0                2              350               False                 False   \n",
       "1                3              351               False                 False   \n",
       "2                4              352               False                 False   \n",
       "3                5              353               False                 False   \n",
       "4                6              354               False                 False   \n",
       "\n",
       "   entry_Is_quarter_end  entry_Is_quarter_start  entry_Is_year_end  \\\n",
       "0                 False                   False              False   \n",
       "1                 False                   False              False   \n",
       "2                 False                   False              False   \n",
       "3                 False                   False              False   \n",
       "4                 False                   False              False   \n",
       "\n",
       "   entry_Is_year_start  entry_Elapsed  \n",
       "0                False     1450224000  \n",
       "1                False     1450310400  \n",
       "2                False     1450396800  \n",
       "3                False     1450483200  \n",
       "4                False     1450569600  \n",
       "\n",
       "[5 rows x 23 columns]"
      ]
     },
     "execution_count": 20,
     "metadata": {},
     "output_type": "execute_result"
    }
   ],
   "source": [
    "efcsh.head()"
   ]
  },
  {
   "cell_type": "code",
   "execution_count": 21,
   "metadata": {},
   "outputs": [],
   "source": [
    "import datetime\n",
    "import calendar\n",
    "\n",
    "# del max # no idea where this is overridden\n",
    "\n",
    "def week_of_month(tgtdate):\n",
    "    tgtdate = pd.to_datetime(tgtdate)\n",
    "    days_this_month = calendar.mdays[tgtdate.month]\n",
    "    for i in range(1, days_this_month):\n",
    "        d = datetime.datetime(tgtdate.year, tgtdate.month, i)\n",
    "        if d.day - d.weekday() > 0:\n",
    "            startdate = d\n",
    "            break\n",
    "    # now we can use the modulo 7 appraoch\n",
    "    mod = (tgtdate - startdate).days //7 + 1\n",
    "    return max(mod, 1)\n",
    "\n",
    "efcsh['wom'] = efcsh['entry_date'].apply(week_of_month)"
   ]
  },
  {
   "cell_type": "code",
   "execution_count": 22,
   "metadata": {},
   "outputs": [
    {
     "data": {
      "text/plain": [
       "Index(['facility', 'entry_date', 'count', 'city', 'city_type',\n",
       "       'facility_purpose', 'facility_type', 'is_holiday', 'region',\n",
       "       'school_holiday', 'entry_Year', 'entry_Month', 'entry_Week',\n",
       "       'entry_Day', 'entry_Dayofweek', 'entry_Dayofyear', 'entry_Is_month_end',\n",
       "       'entry_Is_month_start', 'entry_Is_quarter_end',\n",
       "       'entry_Is_quarter_start', 'entry_Is_year_end', 'entry_Is_year_start',\n",
       "       'entry_Elapsed', 'wom'],\n",
       "      dtype='object')"
      ]
     },
     "execution_count": 22,
     "metadata": {},
     "output_type": "execute_result"
    }
   ],
   "source": [
    "efcsh.columns"
   ]
  },
  {
   "cell_type": "markdown",
   "metadata": {},
   "source": [
    "## Durations"
   ]
  },
  {
   "cell_type": "code",
   "execution_count": 23,
   "metadata": {},
   "outputs": [],
   "source": [
    "def get_elapsed(df, fld, pre):\n",
    "    day1 = np.timedelta64(1, 'D')\n",
    "    last_date = np.datetime64()\n",
    "    last_store = 0\n",
    "    res = []\n",
    "\n",
    "    for s,v,d in zip(df.facility.values,df[fld].values, df.entry_date.values):\n",
    "        if s != last_store:\n",
    "            last_date = np.datetime64()\n",
    "            last_store = s\n",
    "        if v: last_date = d\n",
    "        res.append(((d-last_date).astype('timedelta64[D]') / day1))\n",
    "    df[pre+fld] = res"
   ]
  },
  {
   "cell_type": "code",
   "execution_count": 24,
   "metadata": {},
   "outputs": [
    {
     "name": "stdout",
     "output_type": "stream",
     "text": [
      "107779\n",
      "107779\n"
     ]
    }
   ],
   "source": [
    "eds = efcsh\n",
    "\n",
    "print(len(eds))\n",
    "\n",
    "# is_holiday\n",
    "fld = 'is_holiday'\n",
    "# forward\n",
    "eds = eds.sort_values(['facility', 'entry_date'])\n",
    "get_elapsed(eds, fld, 'after_')\n",
    "# backward\n",
    "eds = eds.sort_values(['facility', 'entry_date'], ascending=[True, False])\n",
    "get_elapsed(eds, fld, 'before_')\n",
    "\n",
    "\n",
    "# is_holiday\n",
    "fld = 'school_holiday'\n",
    "# forward\n",
    "eds = eds.sort_values(['facility', 'entry_date'])\n",
    "get_elapsed(eds, fld, 'after_')\n",
    "# backward\n",
    "eds = eds.sort_values(['facility', 'entry_date'], ascending=[True, False])\n",
    "get_elapsed(eds, fld, 'before_')\n",
    "\n",
    "print(len(eds))\n",
    "\n",
    "columns = ['school_holiday', 'is_holiday']\n",
    "for o in ['before_', 'after_']:\n",
    "    for p in columns:\n",
    "        a = o+p\n",
    "        eds[a] = eds[a].fillna(0).astype(int)\n"
   ]
  },
  {
   "cell_type": "code",
   "execution_count": 25,
   "metadata": {},
   "outputs": [
    {
     "data": {
      "text/plain": [
       "Index(['facility', 'entry_date', 'count', 'city', 'city_type',\n",
       "       'facility_purpose', 'facility_type', 'is_holiday', 'region',\n",
       "       'school_holiday', 'entry_Year', 'entry_Month', 'entry_Week',\n",
       "       'entry_Day', 'entry_Dayofweek', 'entry_Dayofyear', 'entry_Is_month_end',\n",
       "       'entry_Is_month_start', 'entry_Is_quarter_end',\n",
       "       'entry_Is_quarter_start', 'entry_Is_year_end', 'entry_Is_year_start',\n",
       "       'entry_Elapsed', 'wom', 'after_is_holiday', 'before_is_holiday',\n",
       "       'after_school_holiday', 'before_school_holiday'],\n",
       "      dtype='object')"
      ]
     },
     "execution_count": 25,
     "metadata": {},
     "output_type": "execute_result"
    }
   ],
   "source": [
    "eds.columns\n"
   ]
  },
  {
   "cell_type": "code",
   "execution_count": 26,
   "metadata": {},
   "outputs": [],
   "source": [
    "\n",
    "eds.set_index('entry_date', inplace=True)\n",
    "\n",
    "columns = ['school_holiday', 'is_holiday']\n",
    "bwd = eds[['facility']+columns].sort_index().groupby(\"facility\").rolling(7, min_periods=1).sum()\n",
    "fwd = eds[['facility']+columns].sort_index(ascending=False).groupby(\"facility\").rolling(7, min_periods=1).sum()"
   ]
  },
  {
   "cell_type": "code",
   "execution_count": 27,
   "metadata": {},
   "outputs": [],
   "source": [
    "bwd.drop('facility',1,inplace=True)\n",
    "bwd.reset_index(inplace=True)\n",
    "fwd.drop('facility',1,inplace=True)\n",
    "fwd.reset_index(inplace=True)"
   ]
  },
  {
   "cell_type": "code",
   "execution_count": 28,
   "metadata": {},
   "outputs": [
    {
     "data": {
      "text/html": [
       "<div>\n",
       "<style scoped>\n",
       "    .dataframe tbody tr th:only-of-type {\n",
       "        vertical-align: middle;\n",
       "    }\n",
       "\n",
       "    .dataframe tbody tr th {\n",
       "        vertical-align: top;\n",
       "    }\n",
       "\n",
       "    .dataframe thead th {\n",
       "        text-align: right;\n",
       "    }\n",
       "</style>\n",
       "<table border=\"1\" class=\"dataframe\">\n",
       "  <thead>\n",
       "    <tr style=\"text-align: right;\">\n",
       "      <th></th>\n",
       "      <th>facility</th>\n",
       "      <th>count</th>\n",
       "      <th>city</th>\n",
       "      <th>city_type</th>\n",
       "      <th>facility_purpose</th>\n",
       "      <th>facility_type</th>\n",
       "      <th>is_holiday</th>\n",
       "      <th>region</th>\n",
       "      <th>school_holiday</th>\n",
       "      <th>entry_Year</th>\n",
       "      <th>...</th>\n",
       "      <th>entry_Is_quarter_end</th>\n",
       "      <th>entry_Is_quarter_start</th>\n",
       "      <th>entry_Is_year_end</th>\n",
       "      <th>entry_Is_year_start</th>\n",
       "      <th>entry_Elapsed</th>\n",
       "      <th>wom</th>\n",
       "      <th>after_is_holiday</th>\n",
       "      <th>before_is_holiday</th>\n",
       "      <th>after_school_holiday</th>\n",
       "      <th>before_school_holiday</th>\n",
       "    </tr>\n",
       "    <tr>\n",
       "      <th>entry_date</th>\n",
       "      <th></th>\n",
       "      <th></th>\n",
       "      <th></th>\n",
       "      <th></th>\n",
       "      <th></th>\n",
       "      <th></th>\n",
       "      <th></th>\n",
       "      <th></th>\n",
       "      <th></th>\n",
       "      <th></th>\n",
       "      <th></th>\n",
       "      <th></th>\n",
       "      <th></th>\n",
       "      <th></th>\n",
       "      <th></th>\n",
       "      <th></th>\n",
       "      <th></th>\n",
       "      <th></th>\n",
       "      <th></th>\n",
       "      <th></th>\n",
       "      <th></th>\n",
       "    </tr>\n",
       "  </thead>\n",
       "  <tbody>\n",
       "    <tr>\n",
       "      <th>2018-08-29</th>\n",
       "      <td>0500140</td>\n",
       "      <td>773</td>\n",
       "      <td>Oosterhout</td>\n",
       "      <td>ACities</td>\n",
       "      <td>Multifunction</td>\n",
       "      <td>Combination</td>\n",
       "      <td>0</td>\n",
       "      <td>South</td>\n",
       "      <td>0</td>\n",
       "      <td>2018</td>\n",
       "      <td>...</td>\n",
       "      <td>False</td>\n",
       "      <td>False</td>\n",
       "      <td>False</td>\n",
       "      <td>False</td>\n",
       "      <td>1535500800</td>\n",
       "      <td>4</td>\n",
       "      <td>100</td>\n",
       "      <td>0</td>\n",
       "      <td>10</td>\n",
       "      <td>0</td>\n",
       "    </tr>\n",
       "    <tr>\n",
       "      <th>2018-08-28</th>\n",
       "      <td>0500140</td>\n",
       "      <td>2</td>\n",
       "      <td>Oosterhout</td>\n",
       "      <td>ACities</td>\n",
       "      <td>Multifunction</td>\n",
       "      <td>Combination</td>\n",
       "      <td>0</td>\n",
       "      <td>South</td>\n",
       "      <td>0</td>\n",
       "      <td>2018</td>\n",
       "      <td>...</td>\n",
       "      <td>False</td>\n",
       "      <td>False</td>\n",
       "      <td>False</td>\n",
       "      <td>False</td>\n",
       "      <td>1535414400</td>\n",
       "      <td>4</td>\n",
       "      <td>99</td>\n",
       "      <td>0</td>\n",
       "      <td>9</td>\n",
       "      <td>0</td>\n",
       "    </tr>\n",
       "    <tr>\n",
       "      <th>2018-08-27</th>\n",
       "      <td>0500140</td>\n",
       "      <td>0</td>\n",
       "      <td>Oosterhout</td>\n",
       "      <td>ACities</td>\n",
       "      <td>Multifunction</td>\n",
       "      <td>Combination</td>\n",
       "      <td>0</td>\n",
       "      <td>South</td>\n",
       "      <td>0</td>\n",
       "      <td>2018</td>\n",
       "      <td>...</td>\n",
       "      <td>False</td>\n",
       "      <td>False</td>\n",
       "      <td>False</td>\n",
       "      <td>False</td>\n",
       "      <td>1535328000</td>\n",
       "      <td>4</td>\n",
       "      <td>98</td>\n",
       "      <td>0</td>\n",
       "      <td>8</td>\n",
       "      <td>0</td>\n",
       "    </tr>\n",
       "    <tr>\n",
       "      <th>2018-08-26</th>\n",
       "      <td>0500140</td>\n",
       "      <td>0</td>\n",
       "      <td>Oosterhout</td>\n",
       "      <td>ACities</td>\n",
       "      <td>Multifunction</td>\n",
       "      <td>Combination</td>\n",
       "      <td>0</td>\n",
       "      <td>South</td>\n",
       "      <td>0</td>\n",
       "      <td>2018</td>\n",
       "      <td>...</td>\n",
       "      <td>False</td>\n",
       "      <td>False</td>\n",
       "      <td>False</td>\n",
       "      <td>False</td>\n",
       "      <td>1535241600</td>\n",
       "      <td>3</td>\n",
       "      <td>97</td>\n",
       "      <td>0</td>\n",
       "      <td>7</td>\n",
       "      <td>0</td>\n",
       "    </tr>\n",
       "    <tr>\n",
       "      <th>2018-08-25</th>\n",
       "      <td>0500140</td>\n",
       "      <td>0</td>\n",
       "      <td>Oosterhout</td>\n",
       "      <td>ACities</td>\n",
       "      <td>Multifunction</td>\n",
       "      <td>Combination</td>\n",
       "      <td>0</td>\n",
       "      <td>South</td>\n",
       "      <td>0</td>\n",
       "      <td>2018</td>\n",
       "      <td>...</td>\n",
       "      <td>False</td>\n",
       "      <td>False</td>\n",
       "      <td>False</td>\n",
       "      <td>False</td>\n",
       "      <td>1535155200</td>\n",
       "      <td>3</td>\n",
       "      <td>96</td>\n",
       "      <td>0</td>\n",
       "      <td>6</td>\n",
       "      <td>0</td>\n",
       "    </tr>\n",
       "  </tbody>\n",
       "</table>\n",
       "<p>5 rows × 27 columns</p>\n",
       "</div>"
      ],
      "text/plain": [
       "           facility  count        city city_type facility_purpose  \\\n",
       "entry_date                                                          \n",
       "2018-08-29  0500140    773  Oosterhout   ACities    Multifunction   \n",
       "2018-08-28  0500140      2  Oosterhout   ACities    Multifunction   \n",
       "2018-08-27  0500140      0  Oosterhout   ACities    Multifunction   \n",
       "2018-08-26  0500140      0  Oosterhout   ACities    Multifunction   \n",
       "2018-08-25  0500140      0  Oosterhout   ACities    Multifunction   \n",
       "\n",
       "           facility_type  is_holiday region  school_holiday  entry_Year  \\\n",
       "entry_date                                                                \n",
       "2018-08-29   Combination           0  South               0        2018   \n",
       "2018-08-28   Combination           0  South               0        2018   \n",
       "2018-08-27   Combination           0  South               0        2018   \n",
       "2018-08-26   Combination           0  South               0        2018   \n",
       "2018-08-25   Combination           0  South               0        2018   \n",
       "\n",
       "                    ...            entry_Is_quarter_end  \\\n",
       "entry_date          ...                                   \n",
       "2018-08-29          ...                           False   \n",
       "2018-08-28          ...                           False   \n",
       "2018-08-27          ...                           False   \n",
       "2018-08-26          ...                           False   \n",
       "2018-08-25          ...                           False   \n",
       "\n",
       "            entry_Is_quarter_start  entry_Is_year_end  entry_Is_year_start  \\\n",
       "entry_date                                                                   \n",
       "2018-08-29                   False              False                False   \n",
       "2018-08-28                   False              False                False   \n",
       "2018-08-27                   False              False                False   \n",
       "2018-08-26                   False              False                False   \n",
       "2018-08-25                   False              False                False   \n",
       "\n",
       "            entry_Elapsed  wom  after_is_holiday  before_is_holiday  \\\n",
       "entry_date                                                            \n",
       "2018-08-29     1535500800    4               100                  0   \n",
       "2018-08-28     1535414400    4                99                  0   \n",
       "2018-08-27     1535328000    4                98                  0   \n",
       "2018-08-26     1535241600    3                97                  0   \n",
       "2018-08-25     1535155200    3                96                  0   \n",
       "\n",
       "            after_school_holiday  before_school_holiday  \n",
       "entry_date                                               \n",
       "2018-08-29                    10                      0  \n",
       "2018-08-28                     9                      0  \n",
       "2018-08-27                     8                      0  \n",
       "2018-08-26                     7                      0  \n",
       "2018-08-25                     6                      0  \n",
       "\n",
       "[5 rows x 27 columns]"
      ]
     },
     "execution_count": 28,
     "metadata": {},
     "output_type": "execute_result"
    }
   ],
   "source": [
    "reds = eds\n",
    "reds.head()"
   ]
  },
  {
   "cell_type": "code",
   "execution_count": 29,
   "metadata": {},
   "outputs": [],
   "source": [
    "reds = reds.merge(bwd, how='left', on=['entry_date', 'facility'], suffixes=['', '_bw'])\n",
    "reds = reds.merge(fwd, how='left', on=['entry_date', 'facility'], suffixes=['', '_fw'])"
   ]
  },
  {
   "cell_type": "code",
   "execution_count": 30,
   "metadata": {},
   "outputs": [
    {
     "data": {
      "text/html": [
       "<div>\n",
       "<style scoped>\n",
       "    .dataframe tbody tr th:only-of-type {\n",
       "        vertical-align: middle;\n",
       "    }\n",
       "\n",
       "    .dataframe tbody tr th {\n",
       "        vertical-align: top;\n",
       "    }\n",
       "\n",
       "    .dataframe thead th {\n",
       "        text-align: right;\n",
       "    }\n",
       "</style>\n",
       "<table border=\"1\" class=\"dataframe\">\n",
       "  <thead>\n",
       "    <tr style=\"text-align: right;\">\n",
       "      <th></th>\n",
       "      <th>entry_date</th>\n",
       "      <th>facility</th>\n",
       "      <th>count</th>\n",
       "      <th>city</th>\n",
       "      <th>city_type</th>\n",
       "      <th>facility_purpose</th>\n",
       "      <th>facility_type</th>\n",
       "      <th>is_holiday</th>\n",
       "      <th>region</th>\n",
       "      <th>school_holiday</th>\n",
       "      <th>...</th>\n",
       "      <th>entry_Elapsed</th>\n",
       "      <th>wom</th>\n",
       "      <th>after_is_holiday</th>\n",
       "      <th>before_is_holiday</th>\n",
       "      <th>after_school_holiday</th>\n",
       "      <th>before_school_holiday</th>\n",
       "      <th>school_holiday_bw</th>\n",
       "      <th>is_holiday_bw</th>\n",
       "      <th>school_holiday_fw</th>\n",
       "      <th>is_holiday_fw</th>\n",
       "    </tr>\n",
       "  </thead>\n",
       "  <tbody>\n",
       "    <tr>\n",
       "      <th>0</th>\n",
       "      <td>2018-08-29</td>\n",
       "      <td>0500140</td>\n",
       "      <td>773</td>\n",
       "      <td>Oosterhout</td>\n",
       "      <td>ACities</td>\n",
       "      <td>Multifunction</td>\n",
       "      <td>Combination</td>\n",
       "      <td>0</td>\n",
       "      <td>South</td>\n",
       "      <td>0</td>\n",
       "      <td>...</td>\n",
       "      <td>1535500800</td>\n",
       "      <td>4</td>\n",
       "      <td>100</td>\n",
       "      <td>0</td>\n",
       "      <td>10</td>\n",
       "      <td>0</td>\n",
       "      <td>0.0</td>\n",
       "      <td>0.0</td>\n",
       "      <td>0.0</td>\n",
       "      <td>0.0</td>\n",
       "    </tr>\n",
       "    <tr>\n",
       "      <th>1</th>\n",
       "      <td>2018-08-28</td>\n",
       "      <td>0500140</td>\n",
       "      <td>2</td>\n",
       "      <td>Oosterhout</td>\n",
       "      <td>ACities</td>\n",
       "      <td>Multifunction</td>\n",
       "      <td>Combination</td>\n",
       "      <td>0</td>\n",
       "      <td>South</td>\n",
       "      <td>0</td>\n",
       "      <td>...</td>\n",
       "      <td>1535414400</td>\n",
       "      <td>4</td>\n",
       "      <td>99</td>\n",
       "      <td>0</td>\n",
       "      <td>9</td>\n",
       "      <td>0</td>\n",
       "      <td>0.0</td>\n",
       "      <td>0.0</td>\n",
       "      <td>0.0</td>\n",
       "      <td>0.0</td>\n",
       "    </tr>\n",
       "    <tr>\n",
       "      <th>2</th>\n",
       "      <td>2018-08-27</td>\n",
       "      <td>0500140</td>\n",
       "      <td>0</td>\n",
       "      <td>Oosterhout</td>\n",
       "      <td>ACities</td>\n",
       "      <td>Multifunction</td>\n",
       "      <td>Combination</td>\n",
       "      <td>0</td>\n",
       "      <td>South</td>\n",
       "      <td>0</td>\n",
       "      <td>...</td>\n",
       "      <td>1535328000</td>\n",
       "      <td>4</td>\n",
       "      <td>98</td>\n",
       "      <td>0</td>\n",
       "      <td>8</td>\n",
       "      <td>0</td>\n",
       "      <td>0.0</td>\n",
       "      <td>0.0</td>\n",
       "      <td>0.0</td>\n",
       "      <td>0.0</td>\n",
       "    </tr>\n",
       "    <tr>\n",
       "      <th>3</th>\n",
       "      <td>2018-08-26</td>\n",
       "      <td>0500140</td>\n",
       "      <td>0</td>\n",
       "      <td>Oosterhout</td>\n",
       "      <td>ACities</td>\n",
       "      <td>Multifunction</td>\n",
       "      <td>Combination</td>\n",
       "      <td>0</td>\n",
       "      <td>South</td>\n",
       "      <td>0</td>\n",
       "      <td>...</td>\n",
       "      <td>1535241600</td>\n",
       "      <td>3</td>\n",
       "      <td>97</td>\n",
       "      <td>0</td>\n",
       "      <td>7</td>\n",
       "      <td>0</td>\n",
       "      <td>0.0</td>\n",
       "      <td>0.0</td>\n",
       "      <td>0.0</td>\n",
       "      <td>0.0</td>\n",
       "    </tr>\n",
       "    <tr>\n",
       "      <th>4</th>\n",
       "      <td>2018-08-25</td>\n",
       "      <td>0500140</td>\n",
       "      <td>0</td>\n",
       "      <td>Oosterhout</td>\n",
       "      <td>ACities</td>\n",
       "      <td>Multifunction</td>\n",
       "      <td>Combination</td>\n",
       "      <td>0</td>\n",
       "      <td>South</td>\n",
       "      <td>0</td>\n",
       "      <td>...</td>\n",
       "      <td>1535155200</td>\n",
       "      <td>3</td>\n",
       "      <td>96</td>\n",
       "      <td>0</td>\n",
       "      <td>6</td>\n",
       "      <td>0</td>\n",
       "      <td>1.0</td>\n",
       "      <td>0.0</td>\n",
       "      <td>0.0</td>\n",
       "      <td>0.0</td>\n",
       "    </tr>\n",
       "  </tbody>\n",
       "</table>\n",
       "<p>5 rows × 32 columns</p>\n",
       "</div>"
      ],
      "text/plain": [
       "  entry_date facility  count        city city_type facility_purpose  \\\n",
       "0 2018-08-29  0500140    773  Oosterhout   ACities    Multifunction   \n",
       "1 2018-08-28  0500140      2  Oosterhout   ACities    Multifunction   \n",
       "2 2018-08-27  0500140      0  Oosterhout   ACities    Multifunction   \n",
       "3 2018-08-26  0500140      0  Oosterhout   ACities    Multifunction   \n",
       "4 2018-08-25  0500140      0  Oosterhout   ACities    Multifunction   \n",
       "\n",
       "  facility_type  is_holiday region  school_holiday      ...        \\\n",
       "0   Combination           0  South               0      ...         \n",
       "1   Combination           0  South               0      ...         \n",
       "2   Combination           0  South               0      ...         \n",
       "3   Combination           0  South               0      ...         \n",
       "4   Combination           0  South               0      ...         \n",
       "\n",
       "   entry_Elapsed  wom  after_is_holiday  before_is_holiday  \\\n",
       "0     1535500800    4               100                  0   \n",
       "1     1535414400    4                99                  0   \n",
       "2     1535328000    4                98                  0   \n",
       "3     1535241600    3                97                  0   \n",
       "4     1535155200    3                96                  0   \n",
       "\n",
       "   after_school_holiday  before_school_holiday  school_holiday_bw  \\\n",
       "0                    10                      0                0.0   \n",
       "1                     9                      0                0.0   \n",
       "2                     8                      0                0.0   \n",
       "3                     7                      0                0.0   \n",
       "4                     6                      0                1.0   \n",
       "\n",
       "   is_holiday_bw  school_holiday_fw  is_holiday_fw  \n",
       "0            0.0                0.0            0.0  \n",
       "1            0.0                0.0            0.0  \n",
       "2            0.0                0.0            0.0  \n",
       "3            0.0                0.0            0.0  \n",
       "4            0.0                0.0            0.0  \n",
       "\n",
       "[5 rows x 32 columns]"
      ]
     },
     "execution_count": 30,
     "metadata": {},
     "output_type": "execute_result"
    }
   ],
   "source": [
    "reds.head()"
   ]
  },
  {
   "cell_type": "code",
   "execution_count": 31,
   "metadata": {},
   "outputs": [
    {
     "data": {
      "text/plain": [
       "107779"
      ]
     },
     "execution_count": 31,
     "metadata": {},
     "output_type": "execute_result"
    }
   ],
   "source": [
    "len(reds)"
   ]
  },
  {
   "cell_type": "markdown",
   "metadata": {},
   "source": [
    "## Weather"
   ]
  },
  {
   "cell_type": "code",
   "execution_count": 32,
   "metadata": {},
   "outputs": [],
   "source": [
    "# De Bilt: Middle\n",
    "# Vlissingen: South\n",
    "# Eelde: North\n",
    "\n",
    "# SOURCE: ROYAL NETHERLANDS METEOROLOGICAL INSTITUTE (KNMI)\n",
    "# Comment: these time series are possibly inhomogeneous because of station relocations and changes in observation techniques. As a result, these series are not suitable for trend analysis. For climate change studies we refer to the homogenized series of stations De Kooy, Eelde, De Bilt, Vlissingen, Beek or the Central Netherlands Temperature <http://www.knmi.nl/kennis-en-datacentrum/achtergrond/centraal-nederland-temperatuur-cnt>.\n",
    "# \n",
    "# \n",
    "# STN      LON(east)   LAT(north)     ALT(m)  NAME\n",
    "# 260:         5.180       52.099       0.19  De Bilt\n",
    "# 280:         6.585       53.124       0.52  Eelde\n",
    "# 310:         3.596       51.441       0.80  Vlissingen\n",
    "# \n",
    "# YYYYMMDD = Date (YYYY=year MM=month DD=day); \n",
    "# FG       = Daily mean windspeed (in 0.1 m/s); \n",
    "# FHX      = Maximum hourly mean windspeed (in 0.1 m/s); \n",
    "# FHN      = Minimum hourly mean windspeed (in 0.1 m/s); \n",
    "# TG       = Daily mean temperature in (0.1 degrees Celsius); \n",
    "# TN       = Minimum temperature (in 0.1 degrees Celsius); \n",
    "# TX       = Maximum temperature (in 0.1 degrees Celsius); \n",
    "# RH       = Daily precipitation amount (in 0.1 mm) (-1 for <0.05 mm); \n",
    "# RHX      = Maximum hourly precipitation amount (in 0.1 mm) (-1 for <0.05 mm); \n",
    "# VVN      = Minimum visibility; 0: <100 m, 1:100-200 m, 2:200-300 m,..., 49:4900-5000 m, 50:5-6 km, 56:6-7 km, 57:7-8 km,..., 79:29-30 km, 80:30-35 km, 81:35-40 km,..., 89: >70 km)\n",
    "# VVX      = Maximum visibility; 0: <100 m, 1:100-200 m, 2:200-300 m,..., 49:4900-5000 m, 50:5-6 km, 56:6-7 km, 57:7-8 km,..., 79:29-30 km, 80:30-35 km, 81:35-40 km,..., 89: >70 km)\n"
   ]
  },
  {
   "cell_type": "code",
   "execution_count": 33,
   "metadata": {},
   "outputs": [],
   "source": [
    "date_cols = ['YYYYMMDD']\n",
    "\n",
    "weather = pd.read_csv(f\"{PATH}/KNMI_20180923.csv\", parse_dates=date_cols, skipinitialspace=True)\n",
    "\n",
    "weather.rename(columns={'YYYYMMDD': 'entry_date', 'STN': 'region'}, inplace=True)\n",
    "weather.columns\n",
    "\n",
    "weather.loc[weather['region'] == 260, 'region'] = 'Middle'\n",
    "weather.loc[weather['region'] == 280, 'region'] = 'North'\n",
    "weather.loc[weather['region'] == 310, 'region'] = 'South'\n",
    "\n"
   ]
  },
  {
   "cell_type": "code",
   "execution_count": 34,
   "metadata": {},
   "outputs": [],
   "source": [
    "weds = reds\n",
    "weds = weds.merge(weather, 'left', ['region', 'entry_date'])"
   ]
  },
  {
   "cell_type": "code",
   "execution_count": 35,
   "metadata": {},
   "outputs": [
    {
     "data": {
      "text/plain": [
       "Index(['entry_date', 'facility', 'count', 'city', 'city_type',\n",
       "       'facility_purpose', 'facility_type', 'is_holiday', 'region',\n",
       "       'school_holiday', 'entry_Year', 'entry_Month', 'entry_Week',\n",
       "       'entry_Day', 'entry_Dayofweek', 'entry_Dayofyear', 'entry_Is_month_end',\n",
       "       'entry_Is_month_start', 'entry_Is_quarter_end',\n",
       "       'entry_Is_quarter_start', 'entry_Is_year_end', 'entry_Is_year_start',\n",
       "       'entry_Elapsed', 'wom', 'after_is_holiday', 'before_is_holiday',\n",
       "       'after_school_holiday', 'before_school_holiday', 'school_holiday_bw',\n",
       "       'is_holiday_bw', 'school_holiday_fw', 'is_holiday_fw', 'FG', 'FHX',\n",
       "       'FHN', 'TG', 'TN', 'TX', 'RH', 'RHX', 'VVN', 'VVX'],\n",
       "      dtype='object')"
      ]
     },
     "execution_count": 35,
     "metadata": {},
     "output_type": "execute_result"
    }
   ],
   "source": [
    "weds.columns"
   ]
  },
  {
   "cell_type": "code",
   "execution_count": 36,
   "metadata": {},
   "outputs": [
    {
     "data": {
      "text/plain": [
       "69"
      ]
     },
     "execution_count": 36,
     "metadata": {},
     "output_type": "execute_result"
    }
   ],
   "source": [
    "len(weds[weds['VVN'].isna()])"
   ]
  },
  {
   "cell_type": "markdown",
   "metadata": {},
   "source": [
    "## DL"
   ]
  },
  {
   "cell_type": "code",
   "execution_count": 58,
   "metadata": {},
   "outputs": [
    {
     "data": {
      "text/plain": [
       "Index(['entry_date', 'facility', 'count', 'city', 'city_type',\n",
       "       'facility_purpose', 'facility_type', 'is_holiday', 'region',\n",
       "       'school_holiday', 'entry_Year', 'entry_Month', 'entry_Week',\n",
       "       'entry_Day', 'entry_Dayofweek', 'entry_Dayofyear', 'entry_Is_month_end',\n",
       "       'entry_Is_month_start', 'entry_Is_quarter_end',\n",
       "       'entry_Is_quarter_start', 'entry_Is_year_end', 'entry_Is_year_start',\n",
       "       'entry_Elapsed', 'wom', 'after_is_holiday', 'before_is_holiday',\n",
       "       'after_school_holiday', 'before_school_holiday', 'school_holiday_bw',\n",
       "       'is_holiday_bw', 'school_holiday_fw', 'is_holiday_fw', 'FG', 'FHX',\n",
       "       'FHN', 'TG', 'TN', 'TX', 'RH', 'RHX', 'VVN', 'VVX'],\n",
       "      dtype='object')"
      ]
     },
     "execution_count": 58,
     "metadata": {},
     "output_type": "execute_result"
    }
   ],
   "source": [
    "def inv_y(a): return np.exp(a)\n",
    "\n",
    "def exp_rmspe(y_pred, targ):\n",
    "    targ = inv_y(targ)\n",
    "    pct_var = (targ - inv_y(y_pred))/targ\n",
    "    return math.sqrt((pct_var**2).mean())\n",
    "\n",
    "def exp_mae(y_pred, targ):\n",
    "    itarg = inv_y(targ)\n",
    "    ipred = inv_y(y_pred)\n",
    "    return np.abs(itarg - ipred).mean()\n",
    "\n",
    "\n",
    "weds.columns"
   ]
  },
  {
   "cell_type": "code",
   "execution_count": 38,
   "metadata": {},
   "outputs": [],
   "source": [
    "cat_vars = [\n",
    "    'facility', \n",
    "    'city', \n",
    "    'city_type',\n",
    "    'facility_purpose', \n",
    "    'facility_type', \n",
    "    'is_holiday', \n",
    "    'region',\n",
    "    'school_holiday', \n",
    "    'entry_Week',\n",
    "    'entry_Dayofweek', \n",
    "    'entry_Dayofyear', \n",
    "    'entry_Is_month_end',\n",
    "    'entry_Is_month_start', \n",
    "    'entry_Is_quarter_end',\n",
    "    'entry_Is_quarter_start', \n",
    "    'entry_Is_year_end', \n",
    "    'entry_Is_year_start', \n",
    "    'wom', \n",
    "    'school_holiday_bw',\n",
    "    'is_holiday_bw', \n",
    "    'school_holiday_fw', \n",
    "    'is_holiday_fw'\n",
    "]\n",
    "\n",
    "contin_vars = [\n",
    "    'after_is_holiday', \n",
    "    'before_is_holiday',\n",
    "    'after_school_holiday', \n",
    "    'before_school_holiday', \n",
    "    'FG', 'FHX', 'FHN', 'TG', 'TN', 'TX', 'RH', 'RHX', 'VVN', 'VVX'\n",
    "]"
   ]
  },
  {
   "cell_type": "code",
   "execution_count": 39,
   "metadata": {},
   "outputs": [],
   "source": [
    "dep = 'count'\n",
    "ceds = weds[cat_vars+contin_vars+[dep, 'entry_date']].copy()"
   ]
  },
  {
   "cell_type": "code",
   "execution_count": 40,
   "metadata": {},
   "outputs": [],
   "source": [
    "for v in cat_vars: \n",
    "    ceds[v] = ceds[v].astype('category').cat.as_ordered()"
   ]
  },
  {
   "cell_type": "code",
   "execution_count": 41,
   "metadata": {},
   "outputs": [],
   "source": [
    "ceds = ceds.set_index(\"entry_date\")"
   ]
  },
  {
   "cell_type": "code",
   "execution_count": 42,
   "metadata": {},
   "outputs": [],
   "source": [
    "# add 1 to y to allow logs\n",
    "ceds['count'] += 1\n",
    "\n",
    "df, y, nas, mapper = proc_df(ceds, 'count', do_scale=True)"
   ]
  },
  {
   "cell_type": "code",
   "execution_count": 43,
   "metadata": {},
   "outputs": [
    {
     "data": {
      "text/html": [
       "<div>\n",
       "<style scoped>\n",
       "    .dataframe tbody tr th:only-of-type {\n",
       "        vertical-align: middle;\n",
       "    }\n",
       "\n",
       "    .dataframe tbody tr th {\n",
       "        vertical-align: top;\n",
       "    }\n",
       "\n",
       "    .dataframe thead th {\n",
       "        text-align: right;\n",
       "    }\n",
       "</style>\n",
       "<table border=\"1\" class=\"dataframe\">\n",
       "  <thead>\n",
       "    <tr style=\"text-align: right;\">\n",
       "      <th></th>\n",
       "      <th>facility</th>\n",
       "      <th>city</th>\n",
       "      <th>city_type</th>\n",
       "      <th>facility_purpose</th>\n",
       "      <th>facility_type</th>\n",
       "      <th>is_holiday</th>\n",
       "      <th>region</th>\n",
       "      <th>school_holiday</th>\n",
       "      <th>entry_Week</th>\n",
       "      <th>entry_Dayofweek</th>\n",
       "      <th>...</th>\n",
       "      <th>FHN</th>\n",
       "      <th>TG</th>\n",
       "      <th>TN</th>\n",
       "      <th>TX</th>\n",
       "      <th>RH</th>\n",
       "      <th>RHX</th>\n",
       "      <th>VVN</th>\n",
       "      <th>VVX</th>\n",
       "      <th>VVN_na</th>\n",
       "      <th>VVX_na</th>\n",
       "    </tr>\n",
       "    <tr>\n",
       "      <th>entry_date</th>\n",
       "      <th></th>\n",
       "      <th></th>\n",
       "      <th></th>\n",
       "      <th></th>\n",
       "      <th></th>\n",
       "      <th></th>\n",
       "      <th></th>\n",
       "      <th></th>\n",
       "      <th></th>\n",
       "      <th></th>\n",
       "      <th></th>\n",
       "      <th></th>\n",
       "      <th></th>\n",
       "      <th></th>\n",
       "      <th></th>\n",
       "      <th></th>\n",
       "      <th></th>\n",
       "      <th></th>\n",
       "      <th></th>\n",
       "      <th></th>\n",
       "      <th></th>\n",
       "    </tr>\n",
       "  </thead>\n",
       "  <tbody>\n",
       "    <tr>\n",
       "      <th>2018-08-29</th>\n",
       "      <td>1</td>\n",
       "      <td>40</td>\n",
       "      <td>1</td>\n",
       "      <td>1</td>\n",
       "      <td>2</td>\n",
       "      <td>1</td>\n",
       "      <td>3</td>\n",
       "      <td>1</td>\n",
       "      <td>35</td>\n",
       "      <td>3</td>\n",
       "      <td>...</td>\n",
       "      <td>-0.641993</td>\n",
       "      <td>0.802284</td>\n",
       "      <td>1.223815</td>\n",
       "      <td>0.450534</td>\n",
       "      <td>1.920120</td>\n",
       "      <td>3.285135</td>\n",
       "      <td>-0.079011</td>\n",
       "      <td>-0.645435</td>\n",
       "      <td>-0.02531</td>\n",
       "      <td>-0.02531</td>\n",
       "    </tr>\n",
       "    <tr>\n",
       "      <th>2018-08-28</th>\n",
       "      <td>1</td>\n",
       "      <td>40</td>\n",
       "      <td>1</td>\n",
       "      <td>1</td>\n",
       "      <td>2</td>\n",
       "      <td>1</td>\n",
       "      <td>3</td>\n",
       "      <td>1</td>\n",
       "      <td>35</td>\n",
       "      <td>2</td>\n",
       "      <td>...</td>\n",
       "      <td>-0.083869</td>\n",
       "      <td>1.003770</td>\n",
       "      <td>1.340168</td>\n",
       "      <td>0.666075</td>\n",
       "      <td>-0.488739</td>\n",
       "      <td>-0.459980</td>\n",
       "      <td>1.097006</td>\n",
       "      <td>0.634421</td>\n",
       "      <td>-0.02531</td>\n",
       "      <td>-0.02531</td>\n",
       "    </tr>\n",
       "    <tr>\n",
       "      <th>2018-08-27</th>\n",
       "      <td>1</td>\n",
       "      <td>40</td>\n",
       "      <td>1</td>\n",
       "      <td>1</td>\n",
       "      <td>2</td>\n",
       "      <td>1</td>\n",
       "      <td>3</td>\n",
       "      <td>1</td>\n",
       "      <td>35</td>\n",
       "      <td>1</td>\n",
       "      <td>...</td>\n",
       "      <td>1.590500</td>\n",
       "      <td>1.003770</td>\n",
       "      <td>1.473144</td>\n",
       "      <td>0.531362</td>\n",
       "      <td>0.113476</td>\n",
       "      <td>0.490273</td>\n",
       "      <td>-0.427461</td>\n",
       "      <td>0.518070</td>\n",
       "      <td>-0.02531</td>\n",
       "      <td>-0.02531</td>\n",
       "    </tr>\n",
       "    <tr>\n",
       "      <th>2018-08-26</th>\n",
       "      <td>1</td>\n",
       "      <td>40</td>\n",
       "      <td>1</td>\n",
       "      <td>1</td>\n",
       "      <td>2</td>\n",
       "      <td>1</td>\n",
       "      <td>3</td>\n",
       "      <td>1</td>\n",
       "      <td>34</td>\n",
       "      <td>7</td>\n",
       "      <td>...</td>\n",
       "      <td>1.590500</td>\n",
       "      <td>0.631795</td>\n",
       "      <td>0.874754</td>\n",
       "      <td>0.369706</td>\n",
       "      <td>0.900988</td>\n",
       "      <td>0.881554</td>\n",
       "      <td>0.008101</td>\n",
       "      <td>0.750771</td>\n",
       "      <td>-0.02531</td>\n",
       "      <td>-0.02531</td>\n",
       "    </tr>\n",
       "    <tr>\n",
       "      <th>2018-08-25</th>\n",
       "      <td>1</td>\n",
       "      <td>40</td>\n",
       "      <td>1</td>\n",
       "      <td>1</td>\n",
       "      <td>2</td>\n",
       "      <td>1</td>\n",
       "      <td>3</td>\n",
       "      <td>1</td>\n",
       "      <td>34</td>\n",
       "      <td>6</td>\n",
       "      <td>...</td>\n",
       "      <td>0.474254</td>\n",
       "      <td>0.554300</td>\n",
       "      <td>0.824888</td>\n",
       "      <td>0.315821</td>\n",
       "      <td>-0.025497</td>\n",
       "      <td>0.043095</td>\n",
       "      <td>0.400107</td>\n",
       "      <td>0.867122</td>\n",
       "      <td>-0.02531</td>\n",
       "      <td>-0.02531</td>\n",
       "    </tr>\n",
       "  </tbody>\n",
       "</table>\n",
       "<p>5 rows × 38 columns</p>\n",
       "</div>"
      ],
      "text/plain": [
       "            facility  city  city_type  facility_purpose  facility_type  \\\n",
       "entry_date                                                               \n",
       "2018-08-29         1    40          1                 1              2   \n",
       "2018-08-28         1    40          1                 1              2   \n",
       "2018-08-27         1    40          1                 1              2   \n",
       "2018-08-26         1    40          1                 1              2   \n",
       "2018-08-25         1    40          1                 1              2   \n",
       "\n",
       "            is_holiday  region  school_holiday  entry_Week  entry_Dayofweek  \\\n",
       "entry_date                                                                    \n",
       "2018-08-29           1       3               1          35                3   \n",
       "2018-08-28           1       3               1          35                2   \n",
       "2018-08-27           1       3               1          35                1   \n",
       "2018-08-26           1       3               1          34                7   \n",
       "2018-08-25           1       3               1          34                6   \n",
       "\n",
       "             ...          FHN        TG        TN        TX        RH  \\\n",
       "entry_date   ...                                                        \n",
       "2018-08-29   ...    -0.641993  0.802284  1.223815  0.450534  1.920120   \n",
       "2018-08-28   ...    -0.083869  1.003770  1.340168  0.666075 -0.488739   \n",
       "2018-08-27   ...     1.590500  1.003770  1.473144  0.531362  0.113476   \n",
       "2018-08-26   ...     1.590500  0.631795  0.874754  0.369706  0.900988   \n",
       "2018-08-25   ...     0.474254  0.554300  0.824888  0.315821 -0.025497   \n",
       "\n",
       "                 RHX       VVN       VVX   VVN_na   VVX_na  \n",
       "entry_date                                                  \n",
       "2018-08-29  3.285135 -0.079011 -0.645435 -0.02531 -0.02531  \n",
       "2018-08-28 -0.459980  1.097006  0.634421 -0.02531 -0.02531  \n",
       "2018-08-27  0.490273 -0.427461  0.518070 -0.02531 -0.02531  \n",
       "2018-08-26  0.881554  0.008101  0.750771 -0.02531 -0.02531  \n",
       "2018-08-25  0.043095  0.400107  0.867122 -0.02531 -0.02531  \n",
       "\n",
       "[5 rows x 38 columns]"
      ]
     },
     "execution_count": 43,
     "metadata": {},
     "output_type": "execute_result"
    }
   ],
   "source": [
    "df.head()"
   ]
  },
  {
   "cell_type": "code",
   "execution_count": 54,
   "metadata": {},
   "outputs": [],
   "source": [
    "yl = np.log(y)\n",
    "max_log_y = np.max(yl)\n",
    "yl_range = (0, max_log_y*1.2)"
   ]
  },
  {
   "cell_type": "code",
   "execution_count": 46,
   "metadata": {},
   "outputs": [
    {
     "name": "stdout",
     "output_type": "stream",
     "text": [
      "2018-08-08 16:00:00\n"
     ]
    },
    {
     "data": {
      "text/plain": [
       "Int64Index([     0,      1,      2,      3,      4,      5,      6,      7,\n",
       "                 8,      9,\n",
       "            ...\n",
       "            106798, 106799, 106800, 106801, 106802, 106803, 106804, 106805,\n",
       "            106806, 106807],\n",
       "           dtype='int64', length=4103)"
      ]
     },
     "execution_count": 46,
     "metadata": {},
     "output_type": "execute_result"
    }
   ],
   "source": [
    "ceds.reset_index(inplace=True)\n",
    "\n",
    "min_date = ceds['entry_date'].min()\n",
    "max_date = ceds['entry_date'].max()\n",
    "\n",
    "break_point = max_date - ((max_date - min_date) / 36) \n",
    "print(break_point)\n",
    "\n",
    "val_selection = ceds[ceds.entry_date > break_point]\n",
    "\n",
    "val_idx = val_selection.index\n",
    "val_idx\n"
   ]
  },
  {
   "cell_type": "code",
   "execution_count": 47,
   "metadata": {},
   "outputs": [],
   "source": [
    "md = ColumnarModelData.from_data_frame(PATH, val_idx, df, yl.astype(np.float32), cat_flds=cat_vars, bs=128,\n",
    "                                       test_df=None)"
   ]
  },
  {
   "cell_type": "code",
   "execution_count": 51,
   "metadata": {},
   "outputs": [
    {
     "data": {
      "text/plain": [
       "[('facility', 113),\n",
       " ('city', 59),\n",
       " ('city_type', 2),\n",
       " ('facility_purpose', 3),\n",
       " ('facility_type', 6),\n",
       " ('is_holiday', 3),\n",
       " ('region', 4),\n",
       " ('school_holiday', 3),\n",
       " ('entry_Week', 54),\n",
       " ('entry_Dayofweek', 8),\n",
       " ('entry_Dayofyear', 367),\n",
       " ('entry_Is_month_end', 3),\n",
       " ('entry_Is_month_start', 3),\n",
       " ('entry_Is_quarter_end', 3),\n",
       " ('entry_Is_quarter_start', 3),\n",
       " ('entry_Is_year_end', 3),\n",
       " ('entry_Is_year_start', 3),\n",
       " ('wom', 6),\n",
       " ('school_holiday_bw', 9),\n",
       " ('is_holiday_bw', 5),\n",
       " ('school_holiday_fw', 9),\n",
       " ('is_holiday_fw', 5)]"
      ]
     },
     "execution_count": 51,
     "metadata": {},
     "output_type": "execute_result"
    }
   ],
   "source": [
    "cat_sz = [(c, len(ceds[c].cat.categories)+1) for c in cat_vars]\n",
    "cat_sz"
   ]
  },
  {
   "cell_type": "code",
   "execution_count": 52,
   "metadata": {},
   "outputs": [
    {
     "data": {
      "text/plain": [
       "[(113, 50),\n",
       " (59, 30),\n",
       " (2, 1),\n",
       " (3, 2),\n",
       " (6, 3),\n",
       " (3, 2),\n",
       " (4, 2),\n",
       " (3, 2),\n",
       " (54, 27),\n",
       " (8, 4),\n",
       " (367, 50),\n",
       " (3, 2),\n",
       " (3, 2),\n",
       " (3, 2),\n",
       " (3, 2),\n",
       " (3, 2),\n",
       " (3, 2),\n",
       " (6, 3),\n",
       " (9, 5),\n",
       " (5, 3),\n",
       " (9, 5),\n",
       " (5, 3)]"
      ]
     },
     "execution_count": 52,
     "metadata": {},
     "output_type": "execute_result"
    }
   ],
   "source": [
    "emb_szs = [(c, min(50, (c+1)//2)) for _,c in cat_sz]\n",
    "emb_szs"
   ]
  },
  {
   "cell_type": "code",
   "execution_count": 55,
   "metadata": {},
   "outputs": [],
   "source": [
    "layers = [1000, 500]\n",
    "\n",
    "m = md.get_learner(emb_szs, \n",
    "                   len(df.columns)-len(cat_vars),\n",
    "                   0, 1, layers, [0., 0., 0.], yl_range, use_bn=False)"
   ]
  },
  {
   "cell_type": "code",
   "execution_count": 56,
   "metadata": {},
   "outputs": [
    {
     "data": {
      "application/vnd.jupyter.widget-view+json": {
       "model_id": "bfafa5d19076440593c67f7ecb09e332",
       "version_major": 2,
       "version_minor": 0
      },
      "text/plain": [
       "HBox(children=(IntProgress(value=0, description='Epoch', max=1), HTML(value='')))"
      ]
     },
     "metadata": {},
     "output_type": "display_data"
    },
    {
     "name": "stdout",
     "output_type": "stream",
     "text": [
      " 65%|██████▌   | 530/810 [00:08<00:04, 60.35it/s, loss=6.64]\n",
      "                                                            \r"
     ]
    }
   ],
   "source": [
    "m.lr_find()"
   ]
  },
  {
   "cell_type": "code",
   "execution_count": 57,
   "metadata": {},
   "outputs": [
    {
     "data": {
      "image/png": "[encoded data removed]",
      "text/plain": [
       "<Figure size 432x288 with 1 Axes>"
      ]
     },
     "metadata": {},
     "output_type": "display_data"
    }
   ],
   "source": [
    "m.sched.plot()"
   ]
  },
  {
   "cell_type": "code",
   "execution_count": 59,
   "metadata": {},
   "outputs": [
    {
     "data": {
      "application/vnd.jupyter.widget-view+json": {
       "model_id": "365b65603e584e798ea85fabed3f307c",
       "version_major": 2,
       "version_minor": 0
      },
      "text/plain": [
       "HBox(children=(IntProgress(value=0, description='Epoch', max=10), HTML(value='')))"
      ]
     },
     "metadata": {},
     "output_type": "display_data"
    },
    {
     "name": "stdout",
     "output_type": "stream",
     "text": [
      "epoch      trn_loss   val_loss   exp_rmspe  exp_mae          \n",
      "    0      0.887539   0.651195   6.310502   166.664006\n",
      "    1      0.705961   0.530223   7.840832   142.107334       \n",
      "    2      0.605989   0.681308   6.06222    144.049715       \n",
      "    3      0.528955   0.609463   8.789151   140.196643       \n",
      "    4      0.486971   0.889219   7.874128   154.673644       \n",
      "    5      0.43349    0.743367   8.479811   139.785426       \n",
      "    6      0.417818   0.663641   7.424688   152.134878       \n",
      "    7      0.326807   0.52379    10.289905  129.446114       \n",
      "    8      0.286448   0.667345   9.020243   130.679224       \n",
      "    9      0.307861   0.841659   11.323169  134.62876        \n",
      "\n"
     ]
    },
    {
     "data": {
      "text/plain": [
       "[array([0.84166]), 11.323168610587748, 134.62876001015658]"
      ]
     },
     "execution_count": 59,
     "metadata": {},
     "output_type": "execute_result"
    }
   ],
   "source": [
    "m = md.get_learner(emb_szs, \n",
    "                   len(df.columns)-len(cat_vars),\n",
    "                   0., 1, layers, [0.1, 0.2, 0.], yl_range, use_bn=False)\n",
    "\n",
    "lr = 1e-3\n",
    "m.fit(lr, 10, metrics=[exp_rmspe, exp_mae])"
   ]
  },
  {
   "cell_type": "code",
   "execution_count": 60,
   "metadata": {},
   "outputs": [
    {
     "data": {
      "application/vnd.jupyter.widget-view+json": {
       "model_id": "38a0b43feaae4974bb7a8af5ea03d300",
       "version_major": 2,
       "version_minor": 0
      },
      "text/plain": [
       "HBox(children=(IntProgress(value=0, description='Epoch', max=14), HTML(value='')))"
      ]
     },
     "metadata": {},
     "output_type": "display_data"
    },
    {
     "name": "stdout",
     "output_type": "stream",
     "text": [
      "epoch      trn_loss   val_loss   exp_rmspe  exp_mae          \n",
      "    0      0.275022   0.839572   10.398598  151.029763\n",
      "    1      0.255794   0.773546   10.734896  137.21348        \n",
      "    2      0.206234   0.637461   8.587306   121.256936       \n",
      "    3      0.184001   0.701825   8.479757   130.753571       \n",
      "    4      0.140869   0.648208   8.55898    127.823157       \n",
      "    5      0.137766   0.71004    8.327877   128.322295       \n",
      "    6      0.123285   0.702722   8.350022   126.923695       \n",
      "    7      0.245953   1.346577   7.674965   161.865615       \n",
      "    8      0.19199    0.94323    9.294486   139.979723       \n",
      "    9      0.148756   0.8104     9.496974   138.906514       \n",
      "    10     0.137206   0.792309   7.704528   127.41064        \n",
      "    11     0.120128   0.828245   8.375836   129.168219       \n",
      "    12     0.108388   0.839772   8.650364   131.870758        \n",
      "    13     0.090113   0.825901   8.520691   129.587064        \n",
      "\n"
     ]
    },
    {
     "data": {
      "text/plain": [
       "[array([0.8259]), 8.520691075372595, 129.58706445157048]"
      ]
     },
     "execution_count": 60,
     "metadata": {},
     "output_type": "execute_result"
    }
   ],
   "source": [
    "m.fit(lr, 2, metrics=[exp_rmspe, exp_mae], cycle_len=7)"
   ]
  },
  {
   "cell_type": "code",
   "execution_count": 61,
   "metadata": {},
   "outputs": [
    {
     "data": {
      "application/vnd.jupyter.widget-view+json": {
       "model_id": "d3c70e73f9de46f09ae8681d0d35fc80",
       "version_major": 2,
       "version_minor": 0
      },
      "text/plain": [
       "HBox(children=(IntProgress(value=0, description='Epoch', max=10), HTML(value='')))"
      ]
     },
     "metadata": {},
     "output_type": "display_data"
    },
    {
     "name": "stdout",
     "output_type": "stream",
     "text": [
      "epoch      trn_loss   val_loss   exp_rmspe  exp_mae         \n",
      "    0      1.354256   1.025551   8.806688   193.040341\n",
      "    1      1.016022   1.232744   6.228882   204.237363       \n",
      "    2      0.871377   0.781139   7.164645   170.978112       \n",
      "    3      0.803529   0.788303   259.674396 397.132016       \n",
      "    4      0.776728   0.723017   10.473801  154.99087        \n",
      "    5      0.687421   0.614756   10.388431  140.13349        \n",
      "    6      0.654558   0.47183    11.390322  140.911668       \n",
      "    7      0.653678   0.59829    12.787337  157.990725       \n",
      "    8      0.673935   0.778529   9.545429   154.47251        \n",
      "    9      0.587017   0.507335   10.05752   129.38018        \n",
      "\n"
     ]
    },
    {
     "data": {
      "text/plain": [
       "[array([0.50734]), 10.057519830576258, 129.38018023375037]"
      ]
     },
     "execution_count": 61,
     "metadata": {},
     "output_type": "execute_result"
    }
   ],
   "source": [
    "m = md.get_learner(emb_szs, \n",
    "                   len(df.columns)-len(cat_vars),\n",
    "                   0.4, 1, layers, [0.1, 0.2], yl_range, use_bn=False)\n",
    "\n",
    "lr = 1e-3\n",
    "m.fit(lr, 10, metrics=[exp_rmspe, exp_mae])"
   ]
  },
  {
   "cell_type": "code",
   "execution_count": 63,
   "metadata": {},
   "outputs": [
    {
     "data": {
      "application/vnd.jupyter.widget-view+json": {
       "model_id": "cfd9cb9bcfe147b4a43f6c2a995b9554",
       "version_major": 2,
       "version_minor": 0
      },
      "text/plain": [
       "HBox(children=(IntProgress(value=0, description='Epoch', max=3), HTML(value='')))"
      ]
     },
     "metadata": {},
     "output_type": "display_data"
    },
    {
     "name": "stdout",
     "output_type": "stream",
     "text": [
      "epoch      trn_loss   val_loss   exp_rmspe  exp_mae         \n",
      "    0      26.252342  29.55109   0.97811    453.706804\n",
      "    1      26.649398  29.55109   0.97811    453.706804      \n",
      "    2      26.628359  29.55109   0.97811    453.706804      \n"
     ]
    },
    {
     "data": {
      "text/plain": [
       "[array([29.55109]), 0.9781096255335533, 453.7068040666713]"
      ]
     },
     "execution_count": 63,
     "metadata": {},
     "output_type": "execute_result"
    }
   ],
   "source": [
    "m = md.get_learner(emb_szs, \n",
    "                   len(df.columns)-len(cat_vars),\n",
    "                   0.4, 1, layers, [0.1, 0.2], yl_range, use_bn=False)\n",
    "\n",
    "lr = 1e-2\n",
    "m.fit(lr, 3, metrics=[exp_rmspe, exp_mae])"
   ]
  },
  {
   "cell_type": "code",
   "execution_count": 65,
   "metadata": {},
   "outputs": [
    {
     "data": {
      "application/vnd.jupyter.widget-view+json": {
       "model_id": "f13c1ae3c2a64304a12ef6de02f4603d",
       "version_major": 2,
       "version_minor": 0
      },
      "text/plain": [
       "HBox(children=(IntProgress(value=0, description='Epoch', max=3), HTML(value='')))"
      ]
     },
     "metadata": {},
     "output_type": "display_data"
    },
    {
     "name": "stdout",
     "output_type": "stream",
     "text": [
      "epoch      trn_loss   val_loss   exp_rmspe  exp_mae          \n",
      "    0      0.807262   1.307775   348.295613 540.868657\n",
      "    1      0.694101   1.488499   7.470441   175.07525        \n",
      "    2      0.62866    1.218445   9.263246   169.286151       \n"
     ]
    },
    {
     "data": {
      "text/plain": [
       "[array([1.21844]), 9.263246285533617, 169.2861508500306]"
      ]
     },
     "execution_count": 65,
     "metadata": {},
     "output_type": "execute_result"
    }
   ],
   "source": [
    "m = md.get_learner(emb_szs, \n",
    "                   len(df.columns)-len(cat_vars),\n",
    "                   0., 1, layers, [0., 0.], yl_range, use_bn=False)\n",
    "\n",
    "lr = 1e-3\n",
    "m.fit(lr, 3, metrics=[exp_rmspe, exp_mae])"
   ]
  },
  {
   "cell_type": "code",
   "execution_count": 66,
   "metadata": {},
   "outputs": [
    {
     "data": {
      "text/plain": [
       "Int64Index([   988,    989,    990,    991,    992,    993,    994,    995,\n",
       "               996,    997,\n",
       "            ...\n",
       "            106774, 106775, 106776, 106777, 106778, 106779, 106780, 106781,\n",
       "            106782, 106783],\n",
       "           dtype='int64', length=1490)"
      ]
     },
     "execution_count": 66,
     "metadata": {},
     "output_type": "execute_result"
    }
   ],
   "source": [
    "val_selection = ceds[ceds.entry_date > '2018-09-01']\n",
    "val_idx = val_selection.index\n",
    "val_idx\n"
   ]
  },
  {
   "cell_type": "code",
   "execution_count": 67,
   "metadata": {},
   "outputs": [
    {
     "data": {
      "application/vnd.jupyter.widget-view+json": {
       "model_id": "e4c4d99579dc46698f7bedff1d103dce",
       "version_major": 2,
       "version_minor": 0
      },
      "text/plain": [
       "HBox(children=(IntProgress(value=0, description='Epoch', max=1), HTML(value='')))"
      ]
     },
     "metadata": {},
     "output_type": "display_data"
    },
    {
     "name": "stdout",
     "output_type": "stream",
     "text": [
      " 66%|██████▌   | 548/831 [00:10<00:05, 54.64it/s, loss=5.8] "
     ]
    }
   ],
   "source": [
    "md = ColumnarModelData.from_data_frame(PATH, val_idx, df, yl.astype(np.float32), cat_flds=cat_vars, bs=128,\n",
    "                                       test_df=None)\n",
    "m = md.get_learner(emb_szs, \n",
    "                   len(df.columns)-len(cat_vars),\n",
    "                   0, 1, layers, [0., 0., 0.], yl_range, use_bn=False)\n",
    "m.lr_find()"
   ]
  },
  {
   "cell_type": "code",
   "execution_count": 68,
   "metadata": {},
   "outputs": [
    {
     "data": {
      "image/png": "[encoded data removed]",
      "text/plain": [
       "<Figure size 432x288 with 1 Axes>"
      ]
     },
     "metadata": {},
     "output_type": "display_data"
    }
   ],
   "source": [
    "m.sched.plot()"
   ]
  },
  {
   "cell_type": "code",
   "execution_count": 69,
   "metadata": {},
   "outputs": [
    {
     "data": {
      "application/vnd.jupyter.widget-view+json": {
       "model_id": "c08a05f679894aa0b4aeff5651c3a139",
       "version_major": 2,
       "version_minor": 0
      },
      "text/plain": [
       "HBox(children=(IntProgress(value=0, description='Epoch', max=5), HTML(value='')))"
      ]
     },
     "metadata": {},
     "output_type": "display_data"
    },
    {
     "name": "stdout",
     "output_type": "stream",
     "text": [
      "epoch      trn_loss   val_loss   exp_rmspe  exp_mae          \n",
      "    0      0.812831   0.368957   1.661762   168.331403\n",
      "    1      0.652342   0.19674    0.587055   108.880483       \n",
      "    2      0.537487   0.155438   0.544755   100.087303       \n",
      "    3      0.488682   0.179443   0.491901   103.129746       \n",
      "    4      0.360269   0.162292   0.705926   94.396217        \n"
     ]
    },
    {
     "data": {
      "text/plain": [
       "[array([0.16229]), 0.7059259432400349, 94.39621681679016]"
      ]
     },
     "execution_count": 69,
     "metadata": {},
     "output_type": "execute_result"
    }
   ],
   "source": [
    "m = md.get_learner(emb_szs, \n",
    "                   len(df.columns)-len(cat_vars),\n",
    "                   0., 1, layers, [0., 0.], yl_range, use_bn=False)\n",
    "\n",
    "lr = 1e-3\n",
    "m.fit(lr, 5, metrics=[exp_rmspe, exp_mae])"
   ]
  },
  {
   "cell_type": "code",
   "execution_count": 70,
   "metadata": {},
   "outputs": [
    {
     "data": {
      "application/vnd.jupyter.widget-view+json": {
       "model_id": "01bba389e1d34448bfa39491f62e32f5",
       "version_major": 2,
       "version_minor": 0
      },
      "text/plain": [
       "HBox(children=(IntProgress(value=0, description='Epoch', max=5), HTML(value='')))"
      ]
     },
     "metadata": {},
     "output_type": "display_data"
    },
    {
     "name": "stdout",
     "output_type": "stream",
     "text": [
      "epoch      trn_loss   val_loss   exp_rmspe  exp_mae          \n",
      "    0      0.360543   0.172317   0.385427   88.866261 \n",
      "    1      0.327378   0.14518    0.425959   85.104174        \n",
      "    2      0.268856   0.173752   0.583821   87.491492        \n",
      "    3      0.268586   0.191608   0.857741   106.909527       \n",
      "    4      0.201492   0.198593   0.535194   83.826285        \n"
     ]
    },
    {
     "data": {
      "text/plain": [
       "[array([0.19859]), 0.5351944872484252, 83.82628471235302]"
      ]
     },
     "execution_count": 70,
     "metadata": {},
     "output_type": "execute_result"
    }
   ],
   "source": [
    "m.fit(lr, 5, metrics=[exp_rmspe, exp_mae])"
   ]
  },
  {
   "cell_type": "code",
   "execution_count": 71,
   "metadata": {},
   "outputs": [
    {
     "data": {
      "application/vnd.jupyter.widget-view+json": {
       "model_id": "2fdfad67145e4c459d84c30991970196",
       "version_major": 2,
       "version_minor": 0
      },
      "text/plain": [
       "HBox(children=(IntProgress(value=0, description='Epoch', max=5), HTML(value='')))"
      ]
     },
     "metadata": {},
     "output_type": "display_data"
    },
    {
     "name": "stdout",
     "output_type": "stream",
     "text": [
      "epoch      trn_loss   val_loss   exp_rmspe  exp_mae          \n",
      "    0      0.194595   0.169582   0.500405   83.599052 \n",
      "    1      0.168699   0.160396   0.501243   82.817457        \n",
      "    2      0.147782   0.178134   0.64718    80.682318        \n",
      "    3      0.172753   0.171424   0.483464   100.871661       \n",
      "    4      0.146864   0.170101   0.65868    97.779406        \n"
     ]
    },
    {
     "data": {
      "text/plain": [
       "[array([0.1701]), 0.6586802664274279, 97.77940649154202]"
      ]
     },
     "execution_count": 71,
     "metadata": {},
     "output_type": "execute_result"
    }
   ],
   "source": [
    "m.fit(lr, 5, metrics=[exp_rmspe, exp_mae])"
   ]
  },
  {
   "cell_type": "code",
   "execution_count": 72,
   "metadata": {},
   "outputs": [
    {
     "data": {
      "application/vnd.jupyter.widget-view+json": {
       "model_id": "ed7ac51441594141b607840fa915f867",
       "version_major": 2,
       "version_minor": 0
      },
      "text/plain": [
       "HBox(children=(IntProgress(value=0, description='Epoch', max=9), HTML(value='')))"
      ]
     },
     "metadata": {},
     "output_type": "display_data"
    },
    {
     "name": "stdout",
     "output_type": "stream",
     "text": [
      "epoch      trn_loss   val_loss   exp_rmspe  exp_mae          \n",
      "    0      0.114321   0.175052   0.685727   78.238219 \n",
      "    1      0.082389   0.165139   0.621815   79.011583         \n",
      "    2      0.051973   0.169141   0.629437   82.746089         \n",
      "    3      0.123959   0.184942   0.502371   110.875973        \n",
      "    4      0.088271   0.166031   0.530959   81.31765          \n",
      "    5      0.053788   0.170538   0.596763   81.855025         \n",
      "    6      0.10832    0.180555   0.697444   97.289354         \n",
      "    7      0.06309    0.159688   0.619647   77.064524         \n",
      "    8      0.045665   0.162624   0.59676    78.577418         \n"
     ]
    },
    {
     "data": {
      "text/plain": [
       "[array([0.16262]), 0.5967595126901872, 78.5774177338453]"
      ]
     },
     "execution_count": 72,
     "metadata": {},
     "output_type": "execute_result"
    }
   ],
   "source": [
    "m.fit(lr, 3, metrics=[exp_rmspe, exp_mae], cycle_len=3)"
   ]
  },
  {
   "cell_type": "code",
   "execution_count": 73,
   "metadata": {},
   "outputs": [
    {
     "data": {
      "application/vnd.jupyter.widget-view+json": {
       "model_id": "14cd6ec08ce14521b0e5ffb56dc0fa5a",
       "version_major": 2,
       "version_minor": 0
      },
      "text/plain": [
       "HBox(children=(IntProgress(value=0, description='Epoch', max=15), HTML(value='')))"
      ]
     },
     "metadata": {},
     "output_type": "display_data"
    },
    {
     "name": "stdout",
     "output_type": "stream",
     "text": [
      "epoch      trn_loss   val_loss   exp_rmspe  exp_mae           \n",
      "    0      0.099532   0.18443    0.670121   88.206115 \n",
      "    1      0.066169   0.152587   0.588683   81.799457         \n",
      "    2      0.050382   0.158329   0.553828   80.570872         \n",
      "    3      0.038433   0.158322   0.586648   77.701127         \n",
      "    4      0.0324     0.161502   0.60612    79.352241         \n",
      "    5      0.114401   0.190089   1.047363   81.814857         \n",
      "    6      0.071662   0.162086   0.74686    79.704109         \n",
      "    7      0.045159   0.180621   0.857741   80.083407         \n",
      "    8      0.037464   0.179347   0.829497   77.975976         \n",
      "    9      0.028495   0.18087    0.83734    79.651097         \n",
      "    10     0.097896   0.228936   0.864029   109.394524        \n",
      "    11     0.066105   0.180428   0.788094   88.545249         \n",
      "    12     0.045762   0.16662    0.74778    77.994155         \n",
      "    13     0.031292   0.175531   0.7959     79.561846         \n",
      "    14     0.030281   0.173996   0.800306   79.726621         \n"
     ]
    },
    {
     "data": {
      "text/plain": [
       "[array([0.174]), 0.800305842172858, 79.72662089679065]"
      ]
     },
     "execution_count": 73,
     "metadata": {},
     "output_type": "execute_result"
    }
   ],
   "source": [
    "m.fit(lr, 3, metrics=[exp_rmspe, exp_mae], cycle_len=5)"
   ]
  },
  {
   "cell_type": "code",
   "execution_count": 74,
   "metadata": {},
   "outputs": [
    {
     "data": {
      "text/plain": [
       "array([[563.3478 ],\n",
       "       [579.15924],\n",
       "       [571.9003 ],\n",
       "       ...,\n",
       "       [852.45935],\n",
       "       [799.67285],\n",
       "       [658.60864]], dtype=float32)"
      ]
     },
     "execution_count": 74,
     "metadata": {},
     "output_type": "execute_result"
    }
   ],
   "source": []
  },
  {
   "cell_type": "code",
   "execution_count": 91,
   "metadata": {},
   "outputs": [
    {
     "data": {
      "text/html": [
       "<div>\n",
       "<style scoped>\n",
       "    .dataframe tbody tr th:only-of-type {\n",
       "        vertical-align: middle;\n",
       "    }\n",
       "\n",
       "    .dataframe tbody tr th {\n",
       "        vertical-align: top;\n",
       "    }\n",
       "\n",
       "    .dataframe thead th {\n",
       "        text-align: right;\n",
       "    }\n",
       "</style>\n",
       "<table border=\"1\" class=\"dataframe\">\n",
       "  <thead>\n",
       "    <tr style=\"text-align: right;\">\n",
       "      <th></th>\n",
       "      <th>entry_date</th>\n",
       "      <th>facility</th>\n",
       "      <th>count</th>\n",
       "      <th>predict</th>\n",
       "    </tr>\n",
       "  </thead>\n",
       "  <tbody>\n",
       "    <tr>\n",
       "      <th>988</th>\n",
       "      <td>2018-09-14</td>\n",
       "      <td>0500165</td>\n",
       "      <td>501</td>\n",
       "      <td>562.0</td>\n",
       "    </tr>\n",
       "    <tr>\n",
       "      <th>989</th>\n",
       "      <td>2018-09-13</td>\n",
       "      <td>0500165</td>\n",
       "      <td>577</td>\n",
       "      <td>578.0</td>\n",
       "    </tr>\n",
       "    <tr>\n",
       "      <th>990</th>\n",
       "      <td>2018-09-12</td>\n",
       "      <td>0500165</td>\n",
       "      <td>466</td>\n",
       "      <td>571.0</td>\n",
       "    </tr>\n",
       "    <tr>\n",
       "      <th>991</th>\n",
       "      <td>2018-09-11</td>\n",
       "      <td>0500165</td>\n",
       "      <td>516</td>\n",
       "      <td>594.0</td>\n",
       "    </tr>\n",
       "    <tr>\n",
       "      <th>992</th>\n",
       "      <td>2018-09-10</td>\n",
       "      <td>0500165</td>\n",
       "      <td>501</td>\n",
       "      <td>483.0</td>\n",
       "    </tr>\n",
       "  </tbody>\n",
       "</table>\n",
       "</div>"
      ],
      "text/plain": [
       "    entry_date facility  count  predict\n",
       "988 2018-09-14  0500165    501    562.0\n",
       "989 2018-09-13  0500165    577    578.0\n",
       "990 2018-09-12  0500165    466    571.0\n",
       "991 2018-09-11  0500165    516    594.0\n",
       "992 2018-09-10  0500165    501    483.0"
      ]
     },
     "execution_count": 91,
     "metadata": {},
     "output_type": "execute_result"
    }
   ],
   "source": [
    "p = np.round(np.exp(m.predict()) - 1)\n",
    "o = ceds.loc[val_idx, ['entry_date', 'facility', 'count']]\n",
    "o['predict'] = p\n",
    "o.head()"
   ]
  },
  {
   "cell_type": "code",
   "execution_count": 134,
   "metadata": {},
   "outputs": [
    {
     "data": {
      "text/plain": [
       "['0503516', '0501577', '0503490', '0501239', '0502526']"
      ]
     },
     "execution_count": 134,
     "metadata": {},
     "output_type": "execute_result"
    }
   ],
   "source": [
    "facilities = ceds['facility'].unique().tolist()\n",
    "\n",
    "import random\n",
    "selection = random.sample (facilities, 5)\n",
    "selection"
   ]
  },
  {
   "cell_type": "code",
   "execution_count": 135,
   "metadata": {},
   "outputs": [
    {
     "data": {
      "image/png": "[encoded data removed]",
      "text/plain": [
       "<Figure size 432x288 with 1 Axes>"
      ]
     },
     "metadata": {},
     "output_type": "display_data"
    },
    {
     "data": {
      "image/png": "[encoded data removed]",
      "text/plain": [
       "<Figure size 432x288 with 1 Axes>"
      ]
     },
     "metadata": {},
     "output_type": "display_data"
    },
    {
     "data": {
      "image/png": "[encoded data removed]",
      "text/plain": [
       "<Figure size 432x288 with 1 Axes>"
      ]
     },
     "metadata": {},
     "output_type": "display_data"
    },
    {
     "data": {
      "image/png": "[encoded data removed]",
      "text/plain": [
       "<Figure size 432x288 with 1 Axes>"
      ]
     },
     "metadata": {},
     "output_type": "display_data"
    },
    {
     "data": {
      "image/png": "[encoded data removed]",
      "text/plain": [
       "<Figure size 432x288 with 1 Axes>"
      ]
     },
     "metadata": {},
     "output_type": "display_data"
    }
   ],
   "source": [
    "for f in selection:\n",
    "    fo = o[o['facility'] == f]\n",
    "    fo.plot(x = 'entry_date', y = ['count', 'predict'], title = f)"
   ]
  },
  {
   "cell_type": "code",
   "execution_count": null,
   "metadata": {},
   "outputs": [],
   "source": []
  }
 ],
 "metadata": {
  "kernelspec": {
   "display_name": "Python 3",
   "language": "python",
   "name": "python3"
  },
  "language_info": {
   "codemirror_mode": {
    "name": "ipython",
    "version": 3
   },
   "file_extension": ".py",
   "mimetype": "text/x-python",
   "name": "python",
   "nbconvert_exporter": "python",
   "pygments_lexer": "ipython3",
   "version": "3.6.6"
  }
 },
 "nbformat": 4,
 "nbformat_minor": 2
}
